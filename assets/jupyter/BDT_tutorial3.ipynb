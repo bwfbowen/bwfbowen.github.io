{
  "nbformat": 4,
  "nbformat_minor": 0,
  "metadata": {
    "colab": {
      "provenance": []
    },
    "kernelspec": {
      "name": "python3",
      "display_name": "Python 3"
    },
    "language_info": {
      "name": "python"
    },
    "widgets": {
      "application/vnd.jupyter.widget-state+json": {
        "a1af2e19d7a44c77926d450053c74f58": {
          "model_module": "@jupyter-widgets/controls",
          "model_name": "HBoxModel",
          "model_module_version": "1.5.0",
          "state": {
            "_dom_classes": [],
            "_model_module": "@jupyter-widgets/controls",
            "_model_module_version": "1.5.0",
            "_model_name": "HBoxModel",
            "_view_count": null,
            "_view_module": "@jupyter-widgets/controls",
            "_view_module_version": "1.5.0",
            "_view_name": "HBoxView",
            "box_style": "",
            "children": [
              "IPY_MODEL_a26cde7024444deb8ec7a75426836abf",
              "IPY_MODEL_fdda406b8c3046bb9407862ddcd64bb7",
              "IPY_MODEL_4acac54a8b834e56908fc2d2e3c0d9d8"
            ],
            "layout": "IPY_MODEL_af7674d921e545efa365a184e2f348b4"
          }
        },
        "a26cde7024444deb8ec7a75426836abf": {
          "model_module": "@jupyter-widgets/controls",
          "model_name": "HTMLModel",
          "model_module_version": "1.5.0",
          "state": {
            "_dom_classes": [],
            "_model_module": "@jupyter-widgets/controls",
            "_model_module_version": "1.5.0",
            "_model_name": "HTMLModel",
            "_view_count": null,
            "_view_module": "@jupyter-widgets/controls",
            "_view_module_version": "1.5.0",
            "_view_name": "HTMLView",
            "description": "",
            "description_tooltip": null,
            "layout": "IPY_MODEL_5eb0bfa240404489bb18806f51e389f6",
            "placeholder": "​",
            "style": "IPY_MODEL_ef9a08d6ac764462b76420299411feb0",
            "value": "config.json: 100%"
          }
        },
        "fdda406b8c3046bb9407862ddcd64bb7": {
          "model_module": "@jupyter-widgets/controls",
          "model_name": "FloatProgressModel",
          "model_module_version": "1.5.0",
          "state": {
            "_dom_classes": [],
            "_model_module": "@jupyter-widgets/controls",
            "_model_module_version": "1.5.0",
            "_model_name": "FloatProgressModel",
            "_view_count": null,
            "_view_module": "@jupyter-widgets/controls",
            "_view_module_version": "1.5.0",
            "_view_name": "ProgressView",
            "bar_style": "success",
            "description": "",
            "description_tooltip": null,
            "layout": "IPY_MODEL_015ca8fd63bb4b93bc57506c4b3d7e59",
            "max": 699,
            "min": 0,
            "orientation": "horizontal",
            "style": "IPY_MODEL_ac197f9701b342af9e3da2bd3bcb018d",
            "value": 699
          }
        },
        "4acac54a8b834e56908fc2d2e3c0d9d8": {
          "model_module": "@jupyter-widgets/controls",
          "model_name": "HTMLModel",
          "model_module_version": "1.5.0",
          "state": {
            "_dom_classes": [],
            "_model_module": "@jupyter-widgets/controls",
            "_model_module_version": "1.5.0",
            "_model_name": "HTMLModel",
            "_view_count": null,
            "_view_module": "@jupyter-widgets/controls",
            "_view_module_version": "1.5.0",
            "_view_name": "HTMLView",
            "description": "",
            "description_tooltip": null,
            "layout": "IPY_MODEL_65e5601e80f746949a45342367a010e6",
            "placeholder": "​",
            "style": "IPY_MODEL_a8bf39779dcb411c8efaa67e545b6cc2",
            "value": " 699/699 [00:00&lt;00:00, 39.4kB/s]"
          }
        },
        "af7674d921e545efa365a184e2f348b4": {
          "model_module": "@jupyter-widgets/base",
          "model_name": "LayoutModel",
          "model_module_version": "1.2.0",
          "state": {
            "_model_module": "@jupyter-widgets/base",
            "_model_module_version": "1.2.0",
            "_model_name": "LayoutModel",
            "_view_count": null,
            "_view_module": "@jupyter-widgets/base",
            "_view_module_version": "1.2.0",
            "_view_name": "LayoutView",
            "align_content": null,
            "align_items": null,
            "align_self": null,
            "border": null,
            "bottom": null,
            "display": null,
            "flex": null,
            "flex_flow": null,
            "grid_area": null,
            "grid_auto_columns": null,
            "grid_auto_flow": null,
            "grid_auto_rows": null,
            "grid_column": null,
            "grid_gap": null,
            "grid_row": null,
            "grid_template_areas": null,
            "grid_template_columns": null,
            "grid_template_rows": null,
            "height": null,
            "justify_content": null,
            "justify_items": null,
            "left": null,
            "margin": null,
            "max_height": null,
            "max_width": null,
            "min_height": null,
            "min_width": null,
            "object_fit": null,
            "object_position": null,
            "order": null,
            "overflow": null,
            "overflow_x": null,
            "overflow_y": null,
            "padding": null,
            "right": null,
            "top": null,
            "visibility": null,
            "width": null
          }
        },
        "5eb0bfa240404489bb18806f51e389f6": {
          "model_module": "@jupyter-widgets/base",
          "model_name": "LayoutModel",
          "model_module_version": "1.2.0",
          "state": {
            "_model_module": "@jupyter-widgets/base",
            "_model_module_version": "1.2.0",
            "_model_name": "LayoutModel",
            "_view_count": null,
            "_view_module": "@jupyter-widgets/base",
            "_view_module_version": "1.2.0",
            "_view_name": "LayoutView",
            "align_content": null,
            "align_items": null,
            "align_self": null,
            "border": null,
            "bottom": null,
            "display": null,
            "flex": null,
            "flex_flow": null,
            "grid_area": null,
            "grid_auto_columns": null,
            "grid_auto_flow": null,
            "grid_auto_rows": null,
            "grid_column": null,
            "grid_gap": null,
            "grid_row": null,
            "grid_template_areas": null,
            "grid_template_columns": null,
            "grid_template_rows": null,
            "height": null,
            "justify_content": null,
            "justify_items": null,
            "left": null,
            "margin": null,
            "max_height": null,
            "max_width": null,
            "min_height": null,
            "min_width": null,
            "object_fit": null,
            "object_position": null,
            "order": null,
            "overflow": null,
            "overflow_x": null,
            "overflow_y": null,
            "padding": null,
            "right": null,
            "top": null,
            "visibility": null,
            "width": null
          }
        },
        "ef9a08d6ac764462b76420299411feb0": {
          "model_module": "@jupyter-widgets/controls",
          "model_name": "DescriptionStyleModel",
          "model_module_version": "1.5.0",
          "state": {
            "_model_module": "@jupyter-widgets/controls",
            "_model_module_version": "1.5.0",
            "_model_name": "DescriptionStyleModel",
            "_view_count": null,
            "_view_module": "@jupyter-widgets/base",
            "_view_module_version": "1.2.0",
            "_view_name": "StyleView",
            "description_width": ""
          }
        },
        "015ca8fd63bb4b93bc57506c4b3d7e59": {
          "model_module": "@jupyter-widgets/base",
          "model_name": "LayoutModel",
          "model_module_version": "1.2.0",
          "state": {
            "_model_module": "@jupyter-widgets/base",
            "_model_module_version": "1.2.0",
            "_model_name": "LayoutModel",
            "_view_count": null,
            "_view_module": "@jupyter-widgets/base",
            "_view_module_version": "1.2.0",
            "_view_name": "LayoutView",
            "align_content": null,
            "align_items": null,
            "align_self": null,
            "border": null,
            "bottom": null,
            "display": null,
            "flex": null,
            "flex_flow": null,
            "grid_area": null,
            "grid_auto_columns": null,
            "grid_auto_flow": null,
            "grid_auto_rows": null,
            "grid_column": null,
            "grid_gap": null,
            "grid_row": null,
            "grid_template_areas": null,
            "grid_template_columns": null,
            "grid_template_rows": null,
            "height": null,
            "justify_content": null,
            "justify_items": null,
            "left": null,
            "margin": null,
            "max_height": null,
            "max_width": null,
            "min_height": null,
            "min_width": null,
            "object_fit": null,
            "object_position": null,
            "order": null,
            "overflow": null,
            "overflow_x": null,
            "overflow_y": null,
            "padding": null,
            "right": null,
            "top": null,
            "visibility": null,
            "width": null
          }
        },
        "ac197f9701b342af9e3da2bd3bcb018d": {
          "model_module": "@jupyter-widgets/controls",
          "model_name": "ProgressStyleModel",
          "model_module_version": "1.5.0",
          "state": {
            "_model_module": "@jupyter-widgets/controls",
            "_model_module_version": "1.5.0",
            "_model_name": "ProgressStyleModel",
            "_view_count": null,
            "_view_module": "@jupyter-widgets/base",
            "_view_module_version": "1.2.0",
            "_view_name": "StyleView",
            "bar_color": null,
            "description_width": ""
          }
        },
        "65e5601e80f746949a45342367a010e6": {
          "model_module": "@jupyter-widgets/base",
          "model_name": "LayoutModel",
          "model_module_version": "1.2.0",
          "state": {
            "_model_module": "@jupyter-widgets/base",
            "_model_module_version": "1.2.0",
            "_model_name": "LayoutModel",
            "_view_count": null,
            "_view_module": "@jupyter-widgets/base",
            "_view_module_version": "1.2.0",
            "_view_name": "LayoutView",
            "align_content": null,
            "align_items": null,
            "align_self": null,
            "border": null,
            "bottom": null,
            "display": null,
            "flex": null,
            "flex_flow": null,
            "grid_area": null,
            "grid_auto_columns": null,
            "grid_auto_flow": null,
            "grid_auto_rows": null,
            "grid_column": null,
            "grid_gap": null,
            "grid_row": null,
            "grid_template_areas": null,
            "grid_template_columns": null,
            "grid_template_rows": null,
            "height": null,
            "justify_content": null,
            "justify_items": null,
            "left": null,
            "margin": null,
            "max_height": null,
            "max_width": null,
            "min_height": null,
            "min_width": null,
            "object_fit": null,
            "object_position": null,
            "order": null,
            "overflow": null,
            "overflow_x": null,
            "overflow_y": null,
            "padding": null,
            "right": null,
            "top": null,
            "visibility": null,
            "width": null
          }
        },
        "a8bf39779dcb411c8efaa67e545b6cc2": {
          "model_module": "@jupyter-widgets/controls",
          "model_name": "DescriptionStyleModel",
          "model_module_version": "1.5.0",
          "state": {
            "_model_module": "@jupyter-widgets/controls",
            "_model_module_version": "1.5.0",
            "_model_name": "DescriptionStyleModel",
            "_view_count": null,
            "_view_module": "@jupyter-widgets/base",
            "_view_module_version": "1.2.0",
            "_view_name": "StyleView",
            "description_width": ""
          }
        },
        "ba97e2aa8f6d445d939984f5d4062314": {
          "model_module": "@jupyter-widgets/controls",
          "model_name": "HBoxModel",
          "model_module_version": "1.5.0",
          "state": {
            "_dom_classes": [],
            "_model_module": "@jupyter-widgets/controls",
            "_model_module_version": "1.5.0",
            "_model_name": "HBoxModel",
            "_view_count": null,
            "_view_module": "@jupyter-widgets/controls",
            "_view_module_version": "1.5.0",
            "_view_name": "HBoxView",
            "box_style": "",
            "children": [
              "IPY_MODEL_669e03d8c47d46e2a5c51c0b8682871e",
              "IPY_MODEL_d075af62a6e246d8b1bf45defcebdbb6",
              "IPY_MODEL_d3f591c7d0a04f9ea5def2cc88c29877"
            ],
            "layout": "IPY_MODEL_e3f2fbf2f8554d5c8996ba4ed780dda0"
          }
        },
        "669e03d8c47d46e2a5c51c0b8682871e": {
          "model_module": "@jupyter-widgets/controls",
          "model_name": "HTMLModel",
          "model_module_version": "1.5.0",
          "state": {
            "_dom_classes": [],
            "_model_module": "@jupyter-widgets/controls",
            "_model_module_version": "1.5.0",
            "_model_name": "HTMLModel",
            "_view_count": null,
            "_view_module": "@jupyter-widgets/controls",
            "_view_module_version": "1.5.0",
            "_view_name": "HTMLView",
            "description": "",
            "description_tooltip": null,
            "layout": "IPY_MODEL_615f9e8d23684b1e8051f94461e60b20",
            "placeholder": "​",
            "style": "IPY_MODEL_b21d61d2a4b64b94afe1b295d729798a",
            "value": "diffusion_pytorch_model.safetensors: 100%"
          }
        },
        "d075af62a6e246d8b1bf45defcebdbb6": {
          "model_module": "@jupyter-widgets/controls",
          "model_name": "FloatProgressModel",
          "model_module_version": "1.5.0",
          "state": {
            "_dom_classes": [],
            "_model_module": "@jupyter-widgets/controls",
            "_model_module_version": "1.5.0",
            "_model_name": "FloatProgressModel",
            "_view_count": null,
            "_view_module": "@jupyter-widgets/controls",
            "_view_module_version": "1.5.0",
            "_view_name": "ProgressView",
            "bar_style": "success",
            "description": "",
            "description_tooltip": null,
            "layout": "IPY_MODEL_25611fa9ac0f4176974429a01fa492d5",
            "max": 143020084,
            "min": 0,
            "orientation": "horizontal",
            "style": "IPY_MODEL_a1e2092256dc4963b61f45304a418d34",
            "value": 143020084
          }
        },
        "d3f591c7d0a04f9ea5def2cc88c29877": {
          "model_module": "@jupyter-widgets/controls",
          "model_name": "HTMLModel",
          "model_module_version": "1.5.0",
          "state": {
            "_dom_classes": [],
            "_model_module": "@jupyter-widgets/controls",
            "_model_module_version": "1.5.0",
            "_model_name": "HTMLModel",
            "_view_count": null,
            "_view_module": "@jupyter-widgets/controls",
            "_view_module_version": "1.5.0",
            "_view_name": "HTMLView",
            "description": "",
            "description_tooltip": null,
            "layout": "IPY_MODEL_9fe0f19bf98d42efbdf3e0f3085be3b3",
            "placeholder": "​",
            "style": "IPY_MODEL_f6a66b8e6d8340e2b5fcf37a90f839c4",
            "value": " 143M/143M [00:00&lt;00:00, 182MB/s]"
          }
        },
        "e3f2fbf2f8554d5c8996ba4ed780dda0": {
          "model_module": "@jupyter-widgets/base",
          "model_name": "LayoutModel",
          "model_module_version": "1.2.0",
          "state": {
            "_model_module": "@jupyter-widgets/base",
            "_model_module_version": "1.2.0",
            "_model_name": "LayoutModel",
            "_view_count": null,
            "_view_module": "@jupyter-widgets/base",
            "_view_module_version": "1.2.0",
            "_view_name": "LayoutView",
            "align_content": null,
            "align_items": null,
            "align_self": null,
            "border": null,
            "bottom": null,
            "display": null,
            "flex": null,
            "flex_flow": null,
            "grid_area": null,
            "grid_auto_columns": null,
            "grid_auto_flow": null,
            "grid_auto_rows": null,
            "grid_column": null,
            "grid_gap": null,
            "grid_row": null,
            "grid_template_areas": null,
            "grid_template_columns": null,
            "grid_template_rows": null,
            "height": null,
            "justify_content": null,
            "justify_items": null,
            "left": null,
            "margin": null,
            "max_height": null,
            "max_width": null,
            "min_height": null,
            "min_width": null,
            "object_fit": null,
            "object_position": null,
            "order": null,
            "overflow": null,
            "overflow_x": null,
            "overflow_y": null,
            "padding": null,
            "right": null,
            "top": null,
            "visibility": null,
            "width": null
          }
        },
        "615f9e8d23684b1e8051f94461e60b20": {
          "model_module": "@jupyter-widgets/base",
          "model_name": "LayoutModel",
          "model_module_version": "1.2.0",
          "state": {
            "_model_module": "@jupyter-widgets/base",
            "_model_module_version": "1.2.0",
            "_model_name": "LayoutModel",
            "_view_count": null,
            "_view_module": "@jupyter-widgets/base",
            "_view_module_version": "1.2.0",
            "_view_name": "LayoutView",
            "align_content": null,
            "align_items": null,
            "align_self": null,
            "border": null,
            "bottom": null,
            "display": null,
            "flex": null,
            "flex_flow": null,
            "grid_area": null,
            "grid_auto_columns": null,
            "grid_auto_flow": null,
            "grid_auto_rows": null,
            "grid_column": null,
            "grid_gap": null,
            "grid_row": null,
            "grid_template_areas": null,
            "grid_template_columns": null,
            "grid_template_rows": null,
            "height": null,
            "justify_content": null,
            "justify_items": null,
            "left": null,
            "margin": null,
            "max_height": null,
            "max_width": null,
            "min_height": null,
            "min_width": null,
            "object_fit": null,
            "object_position": null,
            "order": null,
            "overflow": null,
            "overflow_x": null,
            "overflow_y": null,
            "padding": null,
            "right": null,
            "top": null,
            "visibility": null,
            "width": null
          }
        },
        "b21d61d2a4b64b94afe1b295d729798a": {
          "model_module": "@jupyter-widgets/controls",
          "model_name": "DescriptionStyleModel",
          "model_module_version": "1.5.0",
          "state": {
            "_model_module": "@jupyter-widgets/controls",
            "_model_module_version": "1.5.0",
            "_model_name": "DescriptionStyleModel",
            "_view_count": null,
            "_view_module": "@jupyter-widgets/base",
            "_view_module_version": "1.2.0",
            "_view_name": "StyleView",
            "description_width": ""
          }
        },
        "25611fa9ac0f4176974429a01fa492d5": {
          "model_module": "@jupyter-widgets/base",
          "model_name": "LayoutModel",
          "model_module_version": "1.2.0",
          "state": {
            "_model_module": "@jupyter-widgets/base",
            "_model_module_version": "1.2.0",
            "_model_name": "LayoutModel",
            "_view_count": null,
            "_view_module": "@jupyter-widgets/base",
            "_view_module_version": "1.2.0",
            "_view_name": "LayoutView",
            "align_content": null,
            "align_items": null,
            "align_self": null,
            "border": null,
            "bottom": null,
            "display": null,
            "flex": null,
            "flex_flow": null,
            "grid_area": null,
            "grid_auto_columns": null,
            "grid_auto_flow": null,
            "grid_auto_rows": null,
            "grid_column": null,
            "grid_gap": null,
            "grid_row": null,
            "grid_template_areas": null,
            "grid_template_columns": null,
            "grid_template_rows": null,
            "height": null,
            "justify_content": null,
            "justify_items": null,
            "left": null,
            "margin": null,
            "max_height": null,
            "max_width": null,
            "min_height": null,
            "min_width": null,
            "object_fit": null,
            "object_position": null,
            "order": null,
            "overflow": null,
            "overflow_x": null,
            "overflow_y": null,
            "padding": null,
            "right": null,
            "top": null,
            "visibility": null,
            "width": null
          }
        },
        "a1e2092256dc4963b61f45304a418d34": {
          "model_module": "@jupyter-widgets/controls",
          "model_name": "ProgressStyleModel",
          "model_module_version": "1.5.0",
          "state": {
            "_model_module": "@jupyter-widgets/controls",
            "_model_module_version": "1.5.0",
            "_model_name": "ProgressStyleModel",
            "_view_count": null,
            "_view_module": "@jupyter-widgets/base",
            "_view_module_version": "1.2.0",
            "_view_name": "StyleView",
            "bar_color": null,
            "description_width": ""
          }
        },
        "9fe0f19bf98d42efbdf3e0f3085be3b3": {
          "model_module": "@jupyter-widgets/base",
          "model_name": "LayoutModel",
          "model_module_version": "1.2.0",
          "state": {
            "_model_module": "@jupyter-widgets/base",
            "_model_module_version": "1.2.0",
            "_model_name": "LayoutModel",
            "_view_count": null,
            "_view_module": "@jupyter-widgets/base",
            "_view_module_version": "1.2.0",
            "_view_name": "LayoutView",
            "align_content": null,
            "align_items": null,
            "align_self": null,
            "border": null,
            "bottom": null,
            "display": null,
            "flex": null,
            "flex_flow": null,
            "grid_area": null,
            "grid_auto_columns": null,
            "grid_auto_flow": null,
            "grid_auto_rows": null,
            "grid_column": null,
            "grid_gap": null,
            "grid_row": null,
            "grid_template_areas": null,
            "grid_template_columns": null,
            "grid_template_rows": null,
            "height": null,
            "justify_content": null,
            "justify_items": null,
            "left": null,
            "margin": null,
            "max_height": null,
            "max_width": null,
            "min_height": null,
            "min_width": null,
            "object_fit": null,
            "object_position": null,
            "order": null,
            "overflow": null,
            "overflow_x": null,
            "overflow_y": null,
            "padding": null,
            "right": null,
            "top": null,
            "visibility": null,
            "width": null
          }
        },
        "f6a66b8e6d8340e2b5fcf37a90f839c4": {
          "model_module": "@jupyter-widgets/controls",
          "model_name": "DescriptionStyleModel",
          "model_module_version": "1.5.0",
          "state": {
            "_model_module": "@jupyter-widgets/controls",
            "_model_module_version": "1.5.0",
            "_model_name": "DescriptionStyleModel",
            "_view_count": null,
            "_view_module": "@jupyter-widgets/base",
            "_view_module_version": "1.2.0",
            "_view_name": "StyleView",
            "description_width": ""
          }
        },
        "4a7cda0870354031be631b8321ad2816": {
          "model_module": "@jupyter-widgets/controls",
          "model_name": "HBoxModel",
          "model_module_version": "1.5.0",
          "state": {
            "_dom_classes": [],
            "_model_module": "@jupyter-widgets/controls",
            "_model_module_version": "1.5.0",
            "_model_name": "HBoxModel",
            "_view_count": null,
            "_view_module": "@jupyter-widgets/controls",
            "_view_module_version": "1.5.0",
            "_view_name": "HBoxView",
            "box_style": "",
            "children": [
              "IPY_MODEL_2fbf5e7ef309471d82ab20c65bdd618c",
              "IPY_MODEL_8256b7d7c9014193845b51a9d42b8b1b",
              "IPY_MODEL_f8649c0e4d8543469c6677765481144b"
            ],
            "layout": "IPY_MODEL_d6b23cea2a144be3bf3563d19de9a22a"
          }
        },
        "2fbf5e7ef309471d82ab20c65bdd618c": {
          "model_module": "@jupyter-widgets/controls",
          "model_name": "HTMLModel",
          "model_module_version": "1.5.0",
          "state": {
            "_dom_classes": [],
            "_model_module": "@jupyter-widgets/controls",
            "_model_module_version": "1.5.0",
            "_model_name": "HTMLModel",
            "_view_count": null,
            "_view_module": "@jupyter-widgets/controls",
            "_view_module_version": "1.5.0",
            "_view_name": "HTMLView",
            "description": "",
            "description_tooltip": null,
            "layout": "IPY_MODEL_9be3917eac8541e3a6c21b983166749b",
            "placeholder": "​",
            "style": "IPY_MODEL_eacad813f49240768e4daeb56287c7ab",
            "value": "scheduler_config.json: 100%"
          }
        },
        "8256b7d7c9014193845b51a9d42b8b1b": {
          "model_module": "@jupyter-widgets/controls",
          "model_name": "FloatProgressModel",
          "model_module_version": "1.5.0",
          "state": {
            "_dom_classes": [],
            "_model_module": "@jupyter-widgets/controls",
            "_model_module_version": "1.5.0",
            "_model_name": "FloatProgressModel",
            "_view_count": null,
            "_view_module": "@jupyter-widgets/controls",
            "_view_module_version": "1.5.0",
            "_view_name": "ProgressView",
            "bar_style": "success",
            "description": "",
            "description_tooltip": null,
            "layout": "IPY_MODEL_ebca5ee1afa346d3b70a1d405d81ed77",
            "max": 256,
            "min": 0,
            "orientation": "horizontal",
            "style": "IPY_MODEL_4815c272f7c845b9b1694e121c817fdb",
            "value": 256
          }
        },
        "f8649c0e4d8543469c6677765481144b": {
          "model_module": "@jupyter-widgets/controls",
          "model_name": "HTMLModel",
          "model_module_version": "1.5.0",
          "state": {
            "_dom_classes": [],
            "_model_module": "@jupyter-widgets/controls",
            "_model_module_version": "1.5.0",
            "_model_name": "HTMLModel",
            "_view_count": null,
            "_view_module": "@jupyter-widgets/controls",
            "_view_module_version": "1.5.0",
            "_view_name": "HTMLView",
            "description": "",
            "description_tooltip": null,
            "layout": "IPY_MODEL_142323216d484d518395b690c83de656",
            "placeholder": "​",
            "style": "IPY_MODEL_ea609e7e884d462d854341566ea0078e",
            "value": " 256/256 [00:00&lt;00:00, 15.4kB/s]"
          }
        },
        "d6b23cea2a144be3bf3563d19de9a22a": {
          "model_module": "@jupyter-widgets/base",
          "model_name": "LayoutModel",
          "model_module_version": "1.2.0",
          "state": {
            "_model_module": "@jupyter-widgets/base",
            "_model_module_version": "1.2.0",
            "_model_name": "LayoutModel",
            "_view_count": null,
            "_view_module": "@jupyter-widgets/base",
            "_view_module_version": "1.2.0",
            "_view_name": "LayoutView",
            "align_content": null,
            "align_items": null,
            "align_self": null,
            "border": null,
            "bottom": null,
            "display": null,
            "flex": null,
            "flex_flow": null,
            "grid_area": null,
            "grid_auto_columns": null,
            "grid_auto_flow": null,
            "grid_auto_rows": null,
            "grid_column": null,
            "grid_gap": null,
            "grid_row": null,
            "grid_template_areas": null,
            "grid_template_columns": null,
            "grid_template_rows": null,
            "height": null,
            "justify_content": null,
            "justify_items": null,
            "left": null,
            "margin": null,
            "max_height": null,
            "max_width": null,
            "min_height": null,
            "min_width": null,
            "object_fit": null,
            "object_position": null,
            "order": null,
            "overflow": null,
            "overflow_x": null,
            "overflow_y": null,
            "padding": null,
            "right": null,
            "top": null,
            "visibility": null,
            "width": null
          }
        },
        "9be3917eac8541e3a6c21b983166749b": {
          "model_module": "@jupyter-widgets/base",
          "model_name": "LayoutModel",
          "model_module_version": "1.2.0",
          "state": {
            "_model_module": "@jupyter-widgets/base",
            "_model_module_version": "1.2.0",
            "_model_name": "LayoutModel",
            "_view_count": null,
            "_view_module": "@jupyter-widgets/base",
            "_view_module_version": "1.2.0",
            "_view_name": "LayoutView",
            "align_content": null,
            "align_items": null,
            "align_self": null,
            "border": null,
            "bottom": null,
            "display": null,
            "flex": null,
            "flex_flow": null,
            "grid_area": null,
            "grid_auto_columns": null,
            "grid_auto_flow": null,
            "grid_auto_rows": null,
            "grid_column": null,
            "grid_gap": null,
            "grid_row": null,
            "grid_template_areas": null,
            "grid_template_columns": null,
            "grid_template_rows": null,
            "height": null,
            "justify_content": null,
            "justify_items": null,
            "left": null,
            "margin": null,
            "max_height": null,
            "max_width": null,
            "min_height": null,
            "min_width": null,
            "object_fit": null,
            "object_position": null,
            "order": null,
            "overflow": null,
            "overflow_x": null,
            "overflow_y": null,
            "padding": null,
            "right": null,
            "top": null,
            "visibility": null,
            "width": null
          }
        },
        "eacad813f49240768e4daeb56287c7ab": {
          "model_module": "@jupyter-widgets/controls",
          "model_name": "DescriptionStyleModel",
          "model_module_version": "1.5.0",
          "state": {
            "_model_module": "@jupyter-widgets/controls",
            "_model_module_version": "1.5.0",
            "_model_name": "DescriptionStyleModel",
            "_view_count": null,
            "_view_module": "@jupyter-widgets/base",
            "_view_module_version": "1.2.0",
            "_view_name": "StyleView",
            "description_width": ""
          }
        },
        "ebca5ee1afa346d3b70a1d405d81ed77": {
          "model_module": "@jupyter-widgets/base",
          "model_name": "LayoutModel",
          "model_module_version": "1.2.0",
          "state": {
            "_model_module": "@jupyter-widgets/base",
            "_model_module_version": "1.2.0",
            "_model_name": "LayoutModel",
            "_view_count": null,
            "_view_module": "@jupyter-widgets/base",
            "_view_module_version": "1.2.0",
            "_view_name": "LayoutView",
            "align_content": null,
            "align_items": null,
            "align_self": null,
            "border": null,
            "bottom": null,
            "display": null,
            "flex": null,
            "flex_flow": null,
            "grid_area": null,
            "grid_auto_columns": null,
            "grid_auto_flow": null,
            "grid_auto_rows": null,
            "grid_column": null,
            "grid_gap": null,
            "grid_row": null,
            "grid_template_areas": null,
            "grid_template_columns": null,
            "grid_template_rows": null,
            "height": null,
            "justify_content": null,
            "justify_items": null,
            "left": null,
            "margin": null,
            "max_height": null,
            "max_width": null,
            "min_height": null,
            "min_width": null,
            "object_fit": null,
            "object_position": null,
            "order": null,
            "overflow": null,
            "overflow_x": null,
            "overflow_y": null,
            "padding": null,
            "right": null,
            "top": null,
            "visibility": null,
            "width": null
          }
        },
        "4815c272f7c845b9b1694e121c817fdb": {
          "model_module": "@jupyter-widgets/controls",
          "model_name": "ProgressStyleModel",
          "model_module_version": "1.5.0",
          "state": {
            "_model_module": "@jupyter-widgets/controls",
            "_model_module_version": "1.5.0",
            "_model_name": "ProgressStyleModel",
            "_view_count": null,
            "_view_module": "@jupyter-widgets/base",
            "_view_module_version": "1.2.0",
            "_view_name": "StyleView",
            "bar_color": null,
            "description_width": ""
          }
        },
        "142323216d484d518395b690c83de656": {
          "model_module": "@jupyter-widgets/base",
          "model_name": "LayoutModel",
          "model_module_version": "1.2.0",
          "state": {
            "_model_module": "@jupyter-widgets/base",
            "_model_module_version": "1.2.0",
            "_model_name": "LayoutModel",
            "_view_count": null,
            "_view_module": "@jupyter-widgets/base",
            "_view_module_version": "1.2.0",
            "_view_name": "LayoutView",
            "align_content": null,
            "align_items": null,
            "align_self": null,
            "border": null,
            "bottom": null,
            "display": null,
            "flex": null,
            "flex_flow": null,
            "grid_area": null,
            "grid_auto_columns": null,
            "grid_auto_flow": null,
            "grid_auto_rows": null,
            "grid_column": null,
            "grid_gap": null,
            "grid_row": null,
            "grid_template_areas": null,
            "grid_template_columns": null,
            "grid_template_rows": null,
            "height": null,
            "justify_content": null,
            "justify_items": null,
            "left": null,
            "margin": null,
            "max_height": null,
            "max_width": null,
            "min_height": null,
            "min_width": null,
            "object_fit": null,
            "object_position": null,
            "order": null,
            "overflow": null,
            "overflow_x": null,
            "overflow_y": null,
            "padding": null,
            "right": null,
            "top": null,
            "visibility": null,
            "width": null
          }
        },
        "ea609e7e884d462d854341566ea0078e": {
          "model_module": "@jupyter-widgets/controls",
          "model_name": "DescriptionStyleModel",
          "model_module_version": "1.5.0",
          "state": {
            "_model_module": "@jupyter-widgets/controls",
            "_model_module_version": "1.5.0",
            "_model_name": "DescriptionStyleModel",
            "_view_count": null,
            "_view_module": "@jupyter-widgets/base",
            "_view_module_version": "1.2.0",
            "_view_name": "StyleView",
            "description_width": ""
          }
        }
      }
    }
  },
  "cells": [
    {
      "cell_type": "markdown",
      "source": [
        "# Google Maps API"
      ],
      "metadata": {
        "id": "EwJvmSRfOrk8"
      }
    },
    {
      "cell_type": "markdown",
      "source": [
        "In this section, we demonstrate how to use the Google Maps Distance Matrix API and Places API using the `googlemaps` library in Python.\n",
        "\n",
        "Prerequisites:\n",
        "\n",
        "\n",
        "*   Get API key: https://developers.google.com/maps/documentation/javascript/get-api-key#console\n",
        "*   Install `googlemaps` library: `!pip install googlemaps`.\n",
        "\n"
      ],
      "metadata": {
        "id": "1ilA_qUORd8B"
      }
    },
    {
      "cell_type": "code",
      "source": [
        "!pip install googlemaps"
      ],
      "metadata": {
        "colab": {
          "base_uri": "https://localhost:8080/"
        },
        "id": "bwCKZ9KeSJQi",
        "outputId": "a7a9f4c1-565c-48c1-ded9-7dc052802c87"
      },
      "execution_count": null,
      "outputs": [
        {
          "output_type": "stream",
          "name": "stdout",
          "text": [
            "Collecting googlemaps\n",
            "  Downloading googlemaps-4.10.0.tar.gz (33 kB)\n",
            "  Preparing metadata (setup.py) ... \u001b[?25l\u001b[?25hdone\n",
            "Requirement already satisfied: requests<3.0,>=2.20.0 in /usr/local/lib/python3.11/dist-packages (from googlemaps) (2.32.3)\n",
            "Requirement already satisfied: charset-normalizer<4,>=2 in /usr/local/lib/python3.11/dist-packages (from requests<3.0,>=2.20.0->googlemaps) (3.4.1)\n",
            "Requirement already satisfied: idna<4,>=2.5 in /usr/local/lib/python3.11/dist-packages (from requests<3.0,>=2.20.0->googlemaps) (3.10)\n",
            "Requirement already satisfied: urllib3<3,>=1.21.1 in /usr/local/lib/python3.11/dist-packages (from requests<3.0,>=2.20.0->googlemaps) (2.3.0)\n",
            "Requirement already satisfied: certifi>=2017.4.17 in /usr/local/lib/python3.11/dist-packages (from requests<3.0,>=2.20.0->googlemaps) (2025.1.31)\n",
            "Building wheels for collected packages: googlemaps\n",
            "  Building wheel for googlemaps (setup.py) ... \u001b[?25l\u001b[?25hdone\n",
            "  Created wheel for googlemaps: filename=googlemaps-4.10.0-py3-none-any.whl size=40715 sha256=72715701941de296ef4e52d2c64716bd9483db0636128fb586509eb65a524f49\n",
            "  Stored in directory: /root/.cache/pip/wheels/f1/09/77/3cc2f5659cbc62341b30f806aca2b25e6a26c351daa5b1f49a\n",
            "Successfully built googlemaps\n",
            "Installing collected packages: googlemaps\n",
            "Successfully installed googlemaps-4.10.0\n"
          ]
        }
      ]
    },
    {
      "cell_type": "code",
      "source": [
        "from google.colab import userdata\n",
        "mykey = userdata.get('GMAP_KEY')"
      ],
      "metadata": {
        "id": "GXdcVfoxfJdN"
      },
      "execution_count": null,
      "outputs": []
    },
    {
      "cell_type": "code",
      "source": [
        "import googlemaps\n",
        "\n",
        "# Replace with your actual API Key\n",
        "# API_KEY = \"YOUR_KEY\"\n",
        "API_KEY = mykey\n",
        "\n",
        "# Initialize client\n",
        "gmaps = googlemaps.Client(key=API_KEY)\n"
      ],
      "metadata": {
        "id": "rWDrdynRO20d"
      },
      "execution_count": null,
      "outputs": []
    },
    {
      "cell_type": "markdown",
      "source": [
        "## Distance Matrix API\n",
        "The Distance Matrix API returns travel distance and time for a matrix of origins and destinations.\n",
        "\n",
        "Reference: https://developers.google.com/maps/documentation/distance-matrix/overview"
      ],
      "metadata": {
        "id": "a9qc7W-OSTzH"
      }
    },
    {
      "cell_type": "code",
      "source": [
        "# Example: Distance and duration between two locations\n",
        "origin = \"Los Angeles, CA\"\n",
        "destination = \"San Francisco, CA\"\n",
        "\n",
        "distance_result = gmaps.distance_matrix(origins=[origin],\n",
        "                                        destinations=[destination],\n",
        "                                        mode='driving')\n",
        "\n",
        "# Let's parse the result\n",
        "rows = distance_result['rows']\n",
        "elements = rows[0]['elements']\n",
        "distance_text = elements[0]['distance']['text']\n",
        "duration_text = elements[0]['duration']['text']\n",
        "\n",
        "print(f\"Distance from {origin} to {destination}: {distance_text}\")\n",
        "print(f\"Estimated travel time: {duration_text}\")\n"
      ],
      "metadata": {
        "colab": {
          "base_uri": "https://localhost:8080/"
        },
        "id": "dGxu3z4eSZd7",
        "outputId": "5075c326-d7dd-4c67-d7a4-08b8eed7a376"
      },
      "execution_count": null,
      "outputs": [
        {
          "output_type": "stream",
          "name": "stdout",
          "text": [
            "Distance from Los Angeles, CA to San Francisco, CA: 615 km\n",
            "Estimated travel time: 5 hours 55 mins\n"
          ]
        }
      ]
    },
    {
      "cell_type": "markdown",
      "source": [
        "## Places API\n",
        "The Places API allows you to query for detailed information about local businesses, points of interest, etc.\n",
        "\n",
        "Reference: https://developers.google.com/maps/documentation/places/web-service"
      ],
      "metadata": {
        "id": "Gn1bNn7kS7Gg"
      }
    },
    {
      "cell_type": "code",
      "source": [
        "# Example: Searching for coffee shops near a specific location\n",
        "# Coordinates for Manhattan, New York (lat, lng)\n",
        "\n",
        "\n",
        "search_result = gmaps.places_nearby(location=location,\n",
        "                                    radius=500,\n",
        "                                    type='cafe')\n",
        "\n",
        "for place in search_result['results'][:5]:  # Show top 5\n",
        "    name = place['name']\n",
        "    rating = place.get('rating', 'N/A')\n",
        "    address = place.get('vicinity', 'N/A')\n",
        "    print(f\"Name: {name}, Rating: {rating}, Address: {address}\")\n"
      ],
      "metadata": {
        "colab": {
          "base_uri": "https://localhost:8080/"
        },
        "id": "K6np3YjCS6rL",
        "outputId": "127bf148-7a2b-4308-a6a0-a50d1e9b7ad4"
      },
      "execution_count": null,
      "outputs": [
        {
          "output_type": "stream",
          "name": "stdout",
          "text": [
            "Name: The Red Flame, Rating: 4.2, Address: 67 West 44th Street, New York\n",
            "Name: Stand Up NY at Bond 45, Rating: 4.2, Address: 221 West 46th Street, New York\n",
            "Name: Gregorys Coffee, Rating: 4.2, Address: 58 West 44th Street, New York\n",
            "Name: Dunkin', Rating: 4.1, Address: 240 West 40th Street, New York\n",
            "Name: McDonald's, Rating: 3.6, Address: 1188 6th Avenue, New York\n"
          ]
        }
      ]
    },
    {
      "cell_type": "markdown",
      "source": [
        "# Toy Classification (MNIST)"
      ],
      "metadata": {
        "id": "OIT4XmYYOfZP"
      }
    },
    {
      "cell_type": "markdown",
      "source": [
        "We will train a simple multilayer perceptron (MLP) on the MNIST dataset. To illustrate how to customize your own network, we'll use JAX (since it is quite simple with Flax and only requires a few lines), but you could adapt the idea to PyTorch or TensorFlow easily."
      ],
      "metadata": {
        "id": "yjHqsnLHTTZJ"
      }
    },
    {
      "cell_type": "code",
      "source": [
        "import torchvision\n",
        "from torchvision import transforms\n",
        "from torch.utils.data import DataLoader\n",
        "\n",
        "# Download and load the MNIST dataset (we'll just reuse TorchVision for convenience)\n",
        "transform = transforms.Compose([transforms.ToTensor()])\n",
        "train_dataset = torchvision.datasets.MNIST(root='./data', train=True, download=True, transform=transform)\n",
        "test_dataset  = torchvision.datasets.MNIST(root='./data', train=False, download=True, transform=transform)\n",
        "\n",
        "train_loader = DataLoader(train_dataset, batch_size=64, shuffle=True)\n",
        "test_loader  = DataLoader(test_dataset, batch_size=64, shuffle=False)"
      ],
      "metadata": {
        "colab": {
          "base_uri": "https://localhost:8080/"
        },
        "id": "1-1anPXEPKnp",
        "outputId": "2a419b1c-ef8f-4ba5-c80e-ae384fa7587b"
      },
      "execution_count": null,
      "outputs": [
        {
          "output_type": "stream",
          "name": "stderr",
          "text": [
            "100%|██████████| 9.91M/9.91M [00:00<00:00, 52.6MB/s]\n",
            "100%|██████████| 28.9k/28.9k [00:00<00:00, 1.65MB/s]\n",
            "100%|██████████| 1.65M/1.65M [00:00<00:00, 12.5MB/s]\n",
            "100%|██████████| 4.54k/4.54k [00:00<00:00, 5.67MB/s]\n"
          ]
        }
      ]
    },
    {
      "cell_type": "code",
      "source": [
        "import jax\n",
        "import jax.numpy as jnp\n",
        "from flax import linen as nn\n",
        "\n",
        "# A simple MLP with one hidden layer\n",
        "class SimpleMLP(nn.Module):\n",
        "    features: int = 128\n",
        "\n",
        "    @nn.compact\n",
        "    def __call__(self, x):\n",
        "        # Flatten input from (batch, 1, 28, 28) to (batch, 784)\n",
        "        x = x.reshape((x.shape[0], -1))\n",
        "        x = nn.Dense(features=self.features)(x)\n",
        "        x = nn.relu(x)\n",
        "        x = nn.Dense(features=10)(x)  # 10 classes for MNIST\n",
        "        return x"
      ],
      "metadata": {
        "id": "6v5bllUQVpHq"
      },
      "execution_count": null,
      "outputs": []
    },
    {
      "cell_type": "code",
      "source": [
        "\n",
        "\n",
        "import optax\n",
        "# Create model and optimizer\n",
        "model = SimpleMLP()\n",
        "rng = jax.random.PRNGKey(0)\n",
        "sample_input = jnp.ones((1, 1, 28, 28), jnp.float32)\n",
        "params = model.init(rng, sample_input)['params']\n",
        "\n",
        "optimizer = optax.sgd(learning_rate=0.01)\n",
        "opt_state = optimizer.init(params)\n"
      ],
      "metadata": {
        "colab": {
          "base_uri": "https://localhost:8080/"
        },
        "id": "8_sG7YHMU22E",
        "outputId": "52c8fdd7-a9b9-42f1-d18f-6c445219a452"
      },
      "execution_count": null,
      "outputs": [
        {
          "output_type": "stream",
          "name": "stdout",
          "text": [
            "Epoch 1, last batch loss: 0.5481\n",
            "Epoch 2, last batch loss: 0.6616\n"
          ]
        }
      ]
    },
    {
      "cell_type": "code",
      "source": [
        "@jax.jit\n",
        "def train_step(params, opt_state, batch):\n",
        "    images, labels = batch\n",
        "\n",
        "    def loss_fn(params):\n",
        "        logits = model.apply({'params': params}, images)\n",
        "        one_hot = jax.nn.one_hot(labels, 10)\n",
        "        loss = optax.softmax_cross_entropy(logits, one_hot).mean()\n",
        "        return loss, logits\n",
        "\n",
        "    (loss, logits), grads = jax.value_and_grad(loss_fn, has_aux=True)(params)\n",
        "    updates, opt_state = optimizer.update(grads, opt_state)\n",
        "    params = optax.apply_updates(params, updates)\n",
        "    return params, opt_state, loss\n"
      ],
      "metadata": {
        "id": "W3R5LXCVVxIA"
      },
      "execution_count": null,
      "outputs": []
    },
    {
      "cell_type": "code",
      "source": [
        "# Training loop (very simple, just a few steps)\n",
        "import numpy as np\n",
        "\n",
        "num_epoch = 2\n",
        "for epoch in range(1, 1 + num_epoch):  # 2 epochs for illustration\n",
        "    for batch_idx, (images, labels) in enumerate(train_loader):\n",
        "        images = np.array(images, dtype=np.float32)\n",
        "        labels = np.array(labels, dtype=np.int32)\n",
        "        params, opt_state, loss_val = train_step(params, opt_state, (images, labels))\n",
        "    print(f\"Epoch {epoch}, last batch loss: {loss_val:.4f}\")\n"
      ],
      "metadata": {
        "id": "lFDTTDQRV1Ba"
      },
      "execution_count": null,
      "outputs": []
    },
    {
      "cell_type": "code",
      "source": [
        "@jax.jit\n",
        "def apply_model(params, images):\n",
        "    return model.apply({'params': params}, images)\n",
        "\n",
        "correct = 0\n",
        "total = 0\n",
        "for images, labels in test_loader:\n",
        "    images = np.array(images, dtype=np.float32)\n",
        "    labels = np.array(labels, dtype=np.int32)\n",
        "    logits = apply_model(params, images)\n",
        "    predictions = jnp.argmax(logits, axis=1)\n",
        "    correct += jnp.sum(predictions == labels)\n",
        "    total += labels.shape[0]\n",
        "\n",
        "accuracy = 100.0 * correct.item() / total\n",
        "print(f\"Test Accuracy: {accuracy:.2f}%\")\n"
      ],
      "metadata": {
        "colab": {
          "base_uri": "https://localhost:8080/"
        },
        "id": "Zf8m1Wz3VRiI",
        "outputId": "5f40c4e4-357c-4467-fb02-f64b62724a34"
      },
      "execution_count": null,
      "outputs": [
        {
          "output_type": "stream",
          "name": "stdout",
          "text": [
            "Test Accuracy: 90.13%\n"
          ]
        }
      ]
    },
    {
      "cell_type": "code",
      "source": [
        "import matplotlib.pyplot as plt\n",
        "import numpy as np\n",
        "\n",
        "# Sample a few images from the test set\n",
        "num_samples = 5\n",
        "sample_indices = np.random.choice(len(test_dataset), num_samples, replace=False)\n",
        "\n",
        "fig, axes = plt.subplots(1, num_samples, figsize=(15, 3))\n",
        "\n",
        "for i, idx in enumerate(sample_indices):\n",
        "  image, label = test_dataset[idx]\n",
        "  image = np.array(image, dtype=np.float32)\n",
        "  logits = apply_model(params, np.expand_dims(image, axis=0))\n",
        "  predicted_label = np.argmax(logits)\n",
        "\n",
        "  axes[i].imshow(image.squeeze(), cmap='gray')\n",
        "  axes[i].set_title(f\"True: {label}\\nPred: {predicted_label}\")\n",
        "  axes[i].axis('off')\n",
        "\n",
        "plt.show()"
      ],
      "metadata": {
        "colab": {
          "base_uri": "https://localhost:8080/",
          "height": 280
        },
        "id": "FFHaDhMaWA7B",
        "outputId": "cd102b44-c295-4d75-e1ea-d899670b4027"
      },
      "execution_count": null,
      "outputs": [
        {
          "output_type": "display_data",
          "data": {
            "text/plain": [
              "<Figure size 1500x300 with 5 Axes>"
            ],
            "image/png": "[encoded data removed]"
          },
          "metadata": {}
        }
      ]
    },
    {
      "cell_type": "markdown",
      "source": [
        "# Toy Generative (MNIST, Fine-tuning Pretrained Diffusion with Flax + Accelerate)"
      ],
      "metadata": {
        "id": "mMRbV5NMPRNQ"
      }
    },
    {
      "cell_type": "markdown",
      "source": [
        "We'll demonstrate a simple Diffusion model training setup using [Hugging Face Diffusers](https://github.com/huggingface/diffusers). While `diffusers` often focuses on more complex image generation, we can adapt it for simpler cases. Note that training a diffusion model can be computationally heavy, but we'll keep a minimal example.\n",
        "\n",
        "In this section, instead of training a diffusion model from scratch, we will show how to fine-tune a small, pretrained diffusion model using Flax (JAX-based) and Accelerate for easier multi-device or single-device training.\n",
        "\n",
        "First we need to have HF_TOKEN: https://huggingface.co/settings/tokens\n"
      ],
      "metadata": {
        "id": "IRjqvN8UWZWC"
      }
    },
    {
      "cell_type": "code",
      "source": [
        "import torch\n",
        "from torch.utils.data import DataLoader\n",
        "from torchvision import datasets, transforms\n",
        "\n",
        "from diffusers import UNet2DModel, DDPMScheduler\n",
        "from accelerate import Accelerator\n",
        "import torch.nn.functional as F\n",
        "import torch.optim as optim\n",
        "\n",
        "# Initialize Accelerator\n",
        "accelerator = Accelerator(mixed_precision=\"fp16\")\n",
        "device = accelerator.device\n",
        "\n",
        "# Transform and dataset\n",
        "transform = transforms.Compose([\n",
        "    transforms.Resize(32),\n",
        "    transforms.ToTensor(),\n",
        "    transforms.Normalize([0.5], [0.5])  # scale to [-1, 1]\n",
        "])\n",
        "\n",
        "train_dataset = datasets.CIFAR10(root=\"data\", train=True, download=True, transform=transform)\n",
        "train_loader = DataLoader(train_dataset, batch_size=64, shuffle=True, num_workers=4)\n",
        "\n",
        "# Model, scheduler, optimizer\n",
        "model = UNet2DModel.from_pretrained(\"google/ddpm-cifar10-32\")\n",
        "scheduler = DDPMScheduler.from_pretrained(\"google/ddpm-cifar10-32\")\n",
        "optimizer = optim.AdamW(model.parameters(), lr=1e-4)\n",
        "\n",
        "# Prepare everything with Accelerator\n",
        "model, optimizer, train_loader = accelerator.prepare(model, optimizer, train_loader)\n",
        "\n"
      ],
      "metadata": {
        "id": "gsda46zgPQY6",
        "colab": {
          "base_uri": "https://localhost:8080/",
          "height": 187,
          "referenced_widgets": [
            "a1af2e19d7a44c77926d450053c74f58",
            "a26cde7024444deb8ec7a75426836abf",
            "fdda406b8c3046bb9407862ddcd64bb7",
            "4acac54a8b834e56908fc2d2e3c0d9d8",
            "af7674d921e545efa365a184e2f348b4",
            "5eb0bfa240404489bb18806f51e389f6",
            "ef9a08d6ac764462b76420299411feb0",
            "015ca8fd63bb4b93bc57506c4b3d7e59",
            "ac197f9701b342af9e3da2bd3bcb018d",
            "65e5601e80f746949a45342367a010e6",
            "a8bf39779dcb411c8efaa67e545b6cc2",
            "ba97e2aa8f6d445d939984f5d4062314",
            "669e03d8c47d46e2a5c51c0b8682871e",
            "d075af62a6e246d8b1bf45defcebdbb6",
            "d3f591c7d0a04f9ea5def2cc88c29877",
            "e3f2fbf2f8554d5c8996ba4ed780dda0",
            "615f9e8d23684b1e8051f94461e60b20",
            "b21d61d2a4b64b94afe1b295d729798a",
            "25611fa9ac0f4176974429a01fa492d5",
            "a1e2092256dc4963b61f45304a418d34",
            "9fe0f19bf98d42efbdf3e0f3085be3b3",
            "f6a66b8e6d8340e2b5fcf37a90f839c4",
            "4a7cda0870354031be631b8321ad2816",
            "2fbf5e7ef309471d82ab20c65bdd618c",
            "8256b7d7c9014193845b51a9d42b8b1b",
            "f8649c0e4d8543469c6677765481144b",
            "d6b23cea2a144be3bf3563d19de9a22a",
            "9be3917eac8541e3a6c21b983166749b",
            "eacad813f49240768e4daeb56287c7ab",
            "ebca5ee1afa346d3b70a1d405d81ed77",
            "4815c272f7c845b9b1694e121c817fdb",
            "142323216d484d518395b690c83de656",
            "ea609e7e884d462d854341566ea0078e"
          ]
        },
        "outputId": "b898ce6a-7554-4da1-fb42-0f51a1693d65"
      },
      "execution_count": null,
      "outputs": [
        {
          "output_type": "stream",
          "name": "stderr",
          "text": [
            "100%|██████████| 170M/170M [00:04<00:00, 34.4MB/s]\n",
            "/usr/local/lib/python3.11/dist-packages/torch/utils/data/dataloader.py:624: UserWarning: This DataLoader will create 4 worker processes in total. Our suggested max number of worker in current system is 2, which is smaller than what this DataLoader is going to create. Please be aware that excessive worker creation might get DataLoader running slow or even freeze, lower the worker number to avoid potential slowness/freeze if necessary.\n",
            "  warnings.warn(\n"
          ]
        },
        {
          "output_type": "display_data",
          "data": {
            "text/plain": [
              "config.json:   0%|          | 0.00/699 [00:00<?, ?B/s]"
            ],
            "application/vnd.jupyter.widget-view+json": {
              "version_major": 2,
              "version_minor": 0,
              "model_id": "a1af2e19d7a44c77926d450053c74f58"
            }
          },
          "metadata": {}
        },
        {
          "output_type": "display_data",
          "data": {
            "text/plain": [
              "diffusion_pytorch_model.safetensors:   0%|          | 0.00/143M [00:00<?, ?B/s]"
            ],
            "application/vnd.jupyter.widget-view+json": {
              "version_major": 2,
              "version_minor": 0,
              "model_id": "ba97e2aa8f6d445d939984f5d4062314"
            }
          },
          "metadata": {}
        },
        {
          "output_type": "display_data",
          "data": {
            "text/plain": [
              "scheduler_config.json:   0%|          | 0.00/256 [00:00<?, ?B/s]"
            ],
            "application/vnd.jupyter.widget-view+json": {
              "version_major": 2,
              "version_minor": 0,
              "model_id": "4a7cda0870354031be631b8321ad2816"
            }
          },
          "metadata": {}
        }
      ]
    },
    {
      "cell_type": "code",
      "source": [
        "# prompt: count number of parameters in model; all parameters not only trainable\n",
        "\n",
        "import numpy as np\n",
        "import torch\n",
        "from flax import linen as nn\n",
        "from diffusers import UNet2DModel\n",
        "\n",
        "# Assuming 'model' is your Flax model (SimpleMLP or the UNet2DModel)\n",
        "# or any other PyTorch model.\n",
        "\n",
        "def count_parameters(model):\n",
        "    total_params = 0\n",
        "    if isinstance(model, nn.Module):\n",
        "      #Flax model\n",
        "      sample_input = jnp.ones((1, 1, 28, 28), jnp.float32)\n",
        "      params = model.init(jax.random.PRNGKey(0), sample_input)['params']\n",
        "      for param_name in params:\n",
        "          total_params += params[param_name].size\n",
        "    elif isinstance(model, UNet2DModel):\n",
        "      #Diffusers model\n",
        "      total_params = sum(p.numel() for p in model.parameters())\n",
        "    elif isinstance(model, torch.nn.Module):\n",
        "      #PyTorch model\n",
        "      total_params = sum(p.numel() for p in model.parameters())\n",
        "    else:\n",
        "      print(\"Model type not supported for parameter counting.\")\n",
        "\n",
        "    return total_params\n",
        "\n",
        "\n",
        "# Example usage:\n",
        "# Assuming 'model' is the trained SimpleMLP\n",
        "total_params = count_parameters(model)\n",
        "print(\"Total number of parameters: \", total_params)\n",
        "\n",
        "# Example usage (for the diffusers model):\n",
        "#total_params_diffusers = count_parameters(model)\n",
        "#print(f\"Total number of parameters in the diffusion model: {total_params_diffusers}\")\n"
      ],
      "metadata": {
        "colab": {
          "base_uri": "https://localhost:8080/"
        },
        "id": "jdUXUL1p4Pc5",
        "outputId": "adcd00b0-4951-4494-ecdf-5d08c35859aa"
      },
      "execution_count": null,
      "outputs": [
        {
          "output_type": "stream",
          "name": "stdout",
          "text": [
            "Total number of parameters:  35746307\n"
          ]
        }
      ]
    },
    {
      "cell_type": "code",
      "source": [
        "# Training loop\n",
        "model.train()\n",
        "num_epochs = 1  # Set to a small number for demo\n",
        "\n",
        "for epoch in range(num_epochs):\n",
        "    for step, (images, _) in enumerate(train_loader):\n",
        "        images = images.to(device)\n",
        "\n",
        "        # Sample random timesteps for each image\n",
        "        timesteps = torch.randint(0, scheduler.num_train_timesteps, (images.shape[0],), device=device).long()\n",
        "\n",
        "        # Add noise\n",
        "        noise = torch.randn_like(images)\n",
        "        noisy_images = scheduler.add_noise(images, noise, timesteps)\n",
        "\n",
        "        # Predict the noise\n",
        "        noise_pred = model(noisy_images, timesteps).sample\n",
        "\n",
        "        # Loss: MSE between predicted and true noise\n",
        "        loss = F.mse_loss(noise_pred, noise)\n",
        "\n",
        "        accelerator.backward(loss)\n",
        "        optimizer.step()\n",
        "        optimizer.zero_grad()\n",
        "\n",
        "        if step % 100 == 0:\n",
        "            print(f\"Epoch {epoch} | Step {step} | Loss: {loss.item():.4f}\")\n",
        "\n",
        "print(\"Training done!\")\n"
      ],
      "metadata": {
        "id": "jO6NsCyC4NF3"
      },
      "execution_count": null,
      "outputs": []
    },
    {
      "cell_type": "code",
      "source": [
        "import matplotlib.pyplot as plt\n",
        "\n",
        "model.eval()\n",
        "num_inference_steps = 1000\n",
        "scheduler.set_timesteps(num_inference_steps)\n",
        "\n",
        "n = 8  # how many images to sample\n",
        "noise = torch.randn((n, 3, 32, 32)).to(device)\n",
        "\n",
        "for t in scheduler.timesteps:\n",
        "    with torch.no_grad():\n",
        "        noise_pred = model(noise, t).sample\n",
        "    noise = scheduler.step(noise_pred, t, noise).prev_sample\n",
        "\n",
        "# Unnormalize and plot\n",
        "samples = (noise.clamp(-1, 1) + 1) / 2  # back to [0, 1]\n",
        "samples = samples.cpu().permute(0, 2, 3, 1)\n",
        "\n",
        "fig, axs = plt.subplots(1, n, figsize=(n * 2, 2))\n",
        "for i in range(n):\n",
        "    axs[i].imshow(samples[i])\n",
        "    axs[i].axis(\"off\")\n",
        "plt.suptitle(\"Sampled Images from Fine-Tuned DDPM\")\n",
        "plt.tight_layout()\n",
        "plt.show()"
      ],
      "metadata": {
        "colab": {
          "base_uri": "https://localhost:8080/",
          "height": 188
        },
        "id": "a2fvecJSfxBn",
        "outputId": "6b470ead-fb75-41ed-d8e2-2a9f9a1a916d"
      },
      "execution_count": null,
      "outputs": [
        {
          "output_type": "display_data",
          "data": {
            "text/plain": [
              "<Figure size 1600x200 with 8 Axes>"
            ],
            "image/png": "[encoded data removed]"
          },
          "metadata": {}
        }
      ]
    },
    {
      "cell_type": "markdown",
      "source": [
        "# Temporal Model for Transit Delay Prediction (METR-LA Dataset)"
      ],
      "metadata": {
        "id": "QfMYHRJwOlqB"
      }
    },
    {
      "cell_type": "markdown",
      "source": [
        "We will load and model the METR-LA dataset. The official dataset can be found [here](https://drive.google.com/file/d/1pAGRfzMx6K9WWsfDcD1NMbIif0T0saFC/view). We'll demonstrate a simple LSTM and a Transformer approach in PyTorch."
      ],
      "metadata": {
        "id": "5y1gHZGQcyMi"
      }
    },
    {
      "cell_type": "markdown",
      "source": [
        "## Downloading and Loading Data"
      ],
      "metadata": {
        "id": "noD7vQixc-t4"
      }
    },
    {
      "cell_type": "code",
      "execution_count": null,
      "metadata": {
        "colab": {
          "base_uri": "https://localhost:8080/"
        },
        "id": "DILFBnQ6OUa1",
        "outputId": "31c8914e-828f-4409-dbfc-1f36ea980359"
      },
      "outputs": [
        {
          "output_type": "stream",
          "name": "stdout",
          "text": [
            "Requirement already satisfied: gdown in /usr/local/lib/python3.11/dist-packages (5.2.0)\n",
            "Requirement already satisfied: beautifulsoup4 in /usr/local/lib/python3.11/dist-packages (from gdown) (4.13.3)\n",
            "Requirement already satisfied: filelock in /usr/local/lib/python3.11/dist-packages (from gdown) (3.18.0)\n",
            "Requirement already satisfied: requests[socks] in /usr/local/lib/python3.11/dist-packages (from gdown) (2.32.3)\n",
            "Requirement already satisfied: tqdm in /usr/local/lib/python3.11/dist-packages (from gdown) (4.67.1)\n",
            "Requirement already satisfied: soupsieve>1.2 in /usr/local/lib/python3.11/dist-packages (from beautifulsoup4->gdown) (2.6)\n",
            "Requirement already satisfied: typing-extensions>=4.0.0 in /usr/local/lib/python3.11/dist-packages (from beautifulsoup4->gdown) (4.13.0)\n",
            "Requirement already satisfied: charset-normalizer<4,>=2 in /usr/local/lib/python3.11/dist-packages (from requests[socks]->gdown) (3.4.1)\n",
            "Requirement already satisfied: idna<4,>=2.5 in /usr/local/lib/python3.11/dist-packages (from requests[socks]->gdown) (3.10)\n",
            "Requirement already satisfied: urllib3<3,>=1.21.1 in /usr/local/lib/python3.11/dist-packages (from requests[socks]->gdown) (2.3.0)\n",
            "Requirement already satisfied: certifi>=2017.4.17 in /usr/local/lib/python3.11/dist-packages (from requests[socks]->gdown) (2025.1.31)\n",
            "Requirement already satisfied: PySocks!=1.5.7,>=1.5.6 in /usr/local/lib/python3.11/dist-packages (from requests[socks]->gdown) (1.7.1)\n",
            "/usr/local/lib/python3.11/dist-packages/gdown/__main__.py:140: FutureWarning: Option `--id` was deprecated in version 4.3.1 and will be removed in 5.0. You don't need to pass it anymore to use a file ID.\n",
            "  warnings.warn(\n",
            "Downloading...\n",
            "From: https://drive.google.com/uc?id=1pAGRfzMx6K9WWsfDcD1NMbIif0T0saFC\n",
            "To: /content/metr-la.h5\n",
            "100% 57.0M/57.0M [00:01<00:00, 53.0MB/s]\n"
          ]
        }
      ],
      "source": [
        "!pip install gdown  # if needed\n",
        "# The ID is everything after 'id=' in the share link or in the final part of the URL\n",
        "file_id = \"1pAGRfzMx6K9WWsfDcD1NMbIif0T0saFC\"\n",
        "!gdown --id $file_id\n",
        "\n",
        "# This should download a file named: metr-la.h5\n"
      ]
    },
    {
      "cell_type": "code",
      "source": [
        "\n",
        "import h5py\n",
        "\n",
        "file_path = \"metr-la.h5\"\n",
        "\n",
        "with h5py.File(file_path, 'r') as f:\n",
        "    all_keys = list(f.keys())\n",
        "    print(\"Top-level keys in this HDF5 file:\", all_keys)\n",
        "\n",
        "    # For each key, you can check if it's a dataset or a group\n",
        "    for key in all_keys:\n",
        "        item = f[key]\n",
        "        if isinstance(item, h5py.Dataset):\n",
        "            print(f\"Dataset: {key}, shape: {item.shape}, dtype: {item.dtype}\")\n",
        "        elif isinstance(item, h5py.Group):\n",
        "            print(f\"Group: {key}\")\n",
        "            g = f[key]\n",
        "            sub_keys = list(g.keys())\n",
        "            print(f\"  Keys inside group '{key}': {sub_keys}\")\n",
        "        else:\n",
        "            print(f\"Unknown type for key '{key}': {type(item)}\")"
      ],
      "metadata": {
        "colab": {
          "base_uri": "https://localhost:8080/"
        },
        "id": "XvJqLaJakhbx",
        "outputId": "ad651cf2-86a8-45be-c948-cab3224e51f2"
      },
      "execution_count": null,
      "outputs": [
        {
          "output_type": "stream",
          "name": "stdout",
          "text": [
            "Top-level keys in this HDF5 file: ['df']\n",
            "Group: df\n",
            "  Keys inside group 'df': ['axis0', 'axis1', 'block0_items', 'block0_values']\n"
          ]
        }
      ]
    },
    {
      "cell_type": "code",
      "source": [
        "import h5py\n",
        "import numpy as np\n",
        "import torch\n",
        "from torch.utils.data import Dataset, DataLoader\n",
        "\n",
        "class METRLA(Dataset):\n",
        "    def __init__(self, file_path=\"metr-la.h5\", seq_len=12, pred_len=3):\n",
        "        super().__init__()\n",
        "        with h5py.File(file_path, 'r') as f:\n",
        "            self.data = f['df']['block0_values'][:]\n",
        "        self.seq_len = seq_len\n",
        "        self.pred_len = pred_len\n",
        "\n",
        "    def __len__(self):\n",
        "        return len(self.data) - self.seq_len - self.pred_len\n",
        "\n",
        "    def __getitem__(self, idx):\n",
        "        x = self.data[idx : idx + self.seq_len]\n",
        "        y = self.data[idx + self.seq_len : idx + self.seq_len + self.pred_len]\n",
        "        # x shape: (seq_len, #sensors), y shape: (pred_len, #sensors)\n",
        "        return torch.tensor(x, dtype=torch.float), torch.tensor(y, dtype=torch.float)\n",
        "\n",
        "train_dataset = METRLA(\"metr-la.h5\", seq_len=12, pred_len=3)\n",
        "train_loader = DataLoader(train_dataset, batch_size=32, shuffle=True)\n"
      ],
      "metadata": {
        "id": "BNs7QidUdDVp"
      },
      "execution_count": null,
      "outputs": []
    },
    {
      "cell_type": "code",
      "source": [
        "train_dataset.data.shape"
      ],
      "metadata": {
        "id": "ZDCvtSufdKwS",
        "colab": {
          "base_uri": "https://localhost:8080/"
        },
        "outputId": "53723283-2891-4cc4-c3f1-5c6020361d32"
      },
      "execution_count": null,
      "outputs": [
        {
          "output_type": "execute_result",
          "data": {
            "text/plain": [
              "(34272, 207)"
            ]
          },
          "metadata": {},
          "execution_count": 12
        }
      ]
    },
    {
      "cell_type": "code",
      "source": [
        "import torch.nn as nn\n",
        "\n",
        "class LSTMModel(nn.Module):\n",
        "    def __init__(self, input_dim, hidden_dim, output_dim, num_layers=1):\n",
        "        super().__init__()\n",
        "        self.lstm = nn.LSTM(input_size=input_dim, hidden_size=hidden_dim, num_layers=num_layers, batch_first=True)\n",
        "        self.fc = nn.Linear(hidden_dim, output_dim)\n",
        "\n",
        "    def forward(self, x):\n",
        "        # x: (batch, seq_len, input_dim)\n",
        "        out, _ = self.lstm(x)\n",
        "        # Take the last output\n",
        "        out = out[:, -1, :]  # (batch, hidden_dim)\n",
        "        out = self.fc(out)   # (batch, output_dim)\n",
        "        return out\n"
      ],
      "metadata": {
        "id": "zhL9KlRPmvRA"
      },
      "execution_count": null,
      "outputs": []
    },
    {
      "cell_type": "code",
      "source": [
        "device = \"cuda\" if torch.cuda.is_available() else \"cpu\"\n",
        "\n",
        "input_dim = train_dataset.data.shape[1]  # number of sensors\n",
        "hidden_dim = 64\n",
        "pred_len = 3  # how many future timesteps to predict\n",
        "# We might flatten sensor dimension or handle it differently.\n",
        "# For simplicity, let's predict the average speed over all sensors or just a single sensor, etc.\n",
        "\n",
        "model_lstm = LSTMModel(input_dim, hidden_dim, pred_len, num_layers=1).to(device)\n",
        "criterion = nn.MSELoss()\n",
        "optimizer = torch.optim.Adam(model_lstm.parameters(), lr=1e-3)\n",
        "\n",
        "model_lstm.train()\n",
        "for epoch in range(10):\n",
        "    for x, y in train_loader:\n",
        "        x, y = x.to(device), y.to(device)\n",
        "        # x: (batch, seq_len, #sensors), y: (batch, pred_len, #sensors)\n",
        "        # Option 1: Summarize or average across sensors => (batch, pred_len)\n",
        "        y_agg = y.mean(dim=2)  # (batch, pred_len)\n",
        "\n",
        "        optimizer.zero_grad()\n",
        "        pred = model_lstm(x)  # (batch, pred_len)\n",
        "        loss = criterion(pred, y_agg)\n",
        "        loss.backward()\n",
        "        optimizer.step()\n",
        "    print(f\"LSTM Epoch {epoch+1} - Loss: {loss.item():.4f}\")\n"
      ],
      "metadata": {
        "colab": {
          "base_uri": "https://localhost:8080/"
        },
        "id": "TiYOFbqHmzw1",
        "outputId": "bdb766e1-eb41-4fda-9ba5-75ddf850b0bd"
      },
      "execution_count": null,
      "outputs": [
        {
          "output_type": "stream",
          "name": "stdout",
          "text": [
            "LSTM Epoch 1 - Loss: 920.1144\n",
            "LSTM Epoch 2 - Loss: 171.1982\n"
          ]
        }
      ]
    },
    {
      "cell_type": "code",
      "source": [
        "class TransformerModel(nn.Module):\n",
        "    def __init__(self, input_dim, d_model=64, nhead=4, num_layers=2, pred_len=3):\n",
        "        super().__init__()\n",
        "        self.input_proj = nn.Linear(input_dim, d_model)\n",
        "        encoder_layer = nn.TransformerEncoderLayer(d_model=d_model, nhead=nhead)\n",
        "        self.transformer_encoder = nn.TransformerEncoder(encoder_layer, num_layers=num_layers)\n",
        "        self.fc_out = nn.Linear(d_model, pred_len)\n",
        "\n",
        "    def forward(self, x):\n",
        "        # x: (batch, seq_len, input_dim)\n",
        "        x = self.input_proj(x)         # (batch, seq_len, d_model)\n",
        "        x = x.permute(1, 0, 2)         # (seq_len, batch, d_model)\n",
        "        enc_out = self.transformer_encoder(x)\n",
        "        last_step = enc_out[-1]        # (batch, d_model)\n",
        "        out = self.fc_out(last_step)   # (batch, pred_len)\n",
        "        return out\n"
      ],
      "metadata": {
        "id": "sM71ppOPnKol"
      },
      "execution_count": null,
      "outputs": []
    },
    {
      "cell_type": "code",
      "source": [
        "model_transformer = TransformerModel(input_dim, d_model=64, nhead=4, num_layers=2, pred_len=pred_len).to(device)\n",
        "optimizer_trans = torch.optim.Adam(model_transformer.parameters(), lr=1e-3)\n",
        "model_transformer.train()\n",
        "\n",
        "for epoch in range(10):\n",
        "    for x, y in train_loader:\n",
        "        x, y = x.to(device), y.to(device)\n",
        "        y_agg = y.mean(dim=2)  # (batch, pred_len)\n",
        "        optimizer_trans.zero_grad()\n",
        "        pred = model_transformer(x)\n",
        "        loss = criterion(pred, y_agg)\n",
        "        loss.backward()\n",
        "        optimizer_trans.step()\n",
        "    print(f\"Transformer Epoch {epoch+1} - Loss: {loss.item():.4f}\")\n"
      ],
      "metadata": {
        "colab": {
          "base_uri": "https://localhost:8080/"
        },
        "id": "gOf1UdLXnOP4",
        "outputId": "f0e0d4b2-7ed7-4062-ee9a-f7ce2a04c7db"
      },
      "execution_count": null,
      "outputs": [
        {
          "output_type": "stream",
          "name": "stdout",
          "text": [
            "Transformer Epoch 1 - Loss: 140.0420\n",
            "Transformer Epoch 2 - Loss: 6.2438\n",
            "Transformer Epoch 3 - Loss: 7.9323\n",
            "Transformer Epoch 4 - Loss: 63.4798\n",
            "Transformer Epoch 5 - Loss: 67.0793\n",
            "Transformer Epoch 6 - Loss: 7.2835\n",
            "Transformer Epoch 7 - Loss: 7.8351\n",
            "Transformer Epoch 8 - Loss: 5.6226\n",
            "Transformer Epoch 9 - Loss: 10.1049\n",
            "Transformer Epoch 10 - Loss: 2.6663\n"
          ]
        }
      ]
    }
  ]
}