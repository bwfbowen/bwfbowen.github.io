{
  "nbformat": 4,
  "nbformat_minor": 0,
  "metadata": {
    "colab": {
      "provenance": []
    },
    "kernelspec": {
      "name": "python3",
      "display_name": "Python 3"
    },
    "language_info": {
      "name": "python"
    },
    "widgets": {
      "application/vnd.jupyter.widget-state+json": {
        "92a7743ac11041b5952b557924b4eda6": {
          "model_module": "@jupyter-widgets/controls",
          "model_name": "HBoxModel",
          "model_module_version": "1.5.0",
          "state": {
            "_dom_classes": [],
            "_model_module": "@jupyter-widgets/controls",
            "_model_module_version": "1.5.0",
            "_model_name": "HBoxModel",
            "_view_count": null,
            "_view_module": "@jupyter-widgets/controls",
            "_view_module_version": "1.5.0",
            "_view_name": "HBoxView",
            "box_style": "",
            "children": [
              "IPY_MODEL_25a6d2da586d4f5685775a0c13198010",
              "IPY_MODEL_828257c75a6e4149b5d706653b9edb1d",
              "IPY_MODEL_1d34b36b2a0e40fdb9542bf694c8e0e6"
            ],
            "layout": "IPY_MODEL_760cd2796117468b8a6dc810f08c9eae"
          }
        },
        "25a6d2da586d4f5685775a0c13198010": {
          "model_module": "@jupyter-widgets/controls",
          "model_name": "HTMLModel",
          "model_module_version": "1.5.0",
          "state": {
            "_dom_classes": [],
            "_model_module": "@jupyter-widgets/controls",
            "_model_module_version": "1.5.0",
            "_model_name": "HTMLModel",
            "_view_count": null,
            "_view_module": "@jupyter-widgets/controls",
            "_view_module_version": "1.5.0",
            "_view_name": "HTMLView",
            "description": "",
            "description_tooltip": null,
            "layout": "IPY_MODEL_b99a53fa089f4d2db15fa1910bddcd99",
            "placeholder": "​",
            "style": "IPY_MODEL_85a5fa31f69f403da9fc7197ca413d65",
            "value": "Job ID 80f6d4ac-5013-4d41-91c7-e4f8d8579567 successfully executed: 100%"
          }
        },
        "828257c75a6e4149b5d706653b9edb1d": {
          "model_module": "@jupyter-widgets/controls",
          "model_name": "FloatProgressModel",
          "model_module_version": "1.5.0",
          "state": {
            "_dom_classes": [],
            "_model_module": "@jupyter-widgets/controls",
            "_model_module_version": "1.5.0",
            "_model_name": "FloatProgressModel",
            "_view_count": null,
            "_view_module": "@jupyter-widgets/controls",
            "_view_module_version": "1.5.0",
            "_view_name": "ProgressView",
            "bar_style": "success",
            "description": "",
            "description_tooltip": null,
            "layout": "IPY_MODEL_8b92d94338c54d1f85d81c507b9007f4",
            "max": 1,
            "min": 0,
            "orientation": "horizontal",
            "style": "IPY_MODEL_58c703e8a3c8424ab3f13763e859c75f",
            "value": 1
          }
        },
        "1d34b36b2a0e40fdb9542bf694c8e0e6": {
          "model_module": "@jupyter-widgets/controls",
          "model_name": "HTMLModel",
          "model_module_version": "1.5.0",
          "state": {
            "_dom_classes": [],
            "_model_module": "@jupyter-widgets/controls",
            "_model_module_version": "1.5.0",
            "_model_name": "HTMLModel",
            "_view_count": null,
            "_view_module": "@jupyter-widgets/controls",
            "_view_module_version": "1.5.0",
            "_view_name": "HTMLView",
            "description": "",
            "description_tooltip": null,
            "layout": "IPY_MODEL_c2f1a14c82ca4857ae94cee403b4d5a6",
            "placeholder": "​",
            "style": "IPY_MODEL_3e06e756a3304e7781461b03848fb8dd",
            "value": ""
          }
        },
        "760cd2796117468b8a6dc810f08c9eae": {
          "model_module": "@jupyter-widgets/base",
          "model_name": "LayoutModel",
          "model_module_version": "1.2.0",
          "state": {
            "_model_module": "@jupyter-widgets/base",
            "_model_module_version": "1.2.0",
            "_model_name": "LayoutModel",
            "_view_count": null,
            "_view_module": "@jupyter-widgets/base",
            "_view_module_version": "1.2.0",
            "_view_name": "LayoutView",
            "align_content": null,
            "align_items": null,
            "align_self": null,
            "border": null,
            "bottom": null,
            "display": null,
            "flex": null,
            "flex_flow": null,
            "grid_area": null,
            "grid_auto_columns": null,
            "grid_auto_flow": null,
            "grid_auto_rows": null,
            "grid_column": null,
            "grid_gap": null,
            "grid_row": null,
            "grid_template_areas": null,
            "grid_template_columns": null,
            "grid_template_rows": null,
            "height": null,
            "justify_content": null,
            "justify_items": null,
            "left": null,
            "margin": null,
            "max_height": null,
            "max_width": null,
            "min_height": null,
            "min_width": null,
            "object_fit": null,
            "object_position": null,
            "order": null,
            "overflow": null,
            "overflow_x": null,
            "overflow_y": null,
            "padding": null,
            "right": null,
            "top": null,
            "visibility": null,
            "width": null
          }
        },
        "b99a53fa089f4d2db15fa1910bddcd99": {
          "model_module": "@jupyter-widgets/base",
          "model_name": "LayoutModel",
          "model_module_version": "1.2.0",
          "state": {
            "_model_module": "@jupyter-widgets/base",
            "_model_module_version": "1.2.0",
            "_model_name": "LayoutModel",
            "_view_count": null,
            "_view_module": "@jupyter-widgets/base",
            "_view_module_version": "1.2.0",
            "_view_name": "LayoutView",
            "align_content": null,
            "align_items": null,
            "align_self": null,
            "border": null,
            "bottom": null,
            "display": null,
            "flex": null,
            "flex_flow": null,
            "grid_area": null,
            "grid_auto_columns": null,
            "grid_auto_flow": null,
            "grid_auto_rows": null,
            "grid_column": null,
            "grid_gap": null,
            "grid_row": null,
            "grid_template_areas": null,
            "grid_template_columns": null,
            "grid_template_rows": null,
            "height": null,
            "justify_content": null,
            "justify_items": null,
            "left": null,
            "margin": null,
            "max_height": null,
            "max_width": null,
            "min_height": null,
            "min_width": null,
            "object_fit": null,
            "object_position": null,
            "order": null,
            "overflow": null,
            "overflow_x": null,
            "overflow_y": null,
            "padding": null,
            "right": null,
            "top": null,
            "visibility": null,
            "width": null
          }
        },
        "85a5fa31f69f403da9fc7197ca413d65": {
          "model_module": "@jupyter-widgets/controls",
          "model_name": "DescriptionStyleModel",
          "model_module_version": "1.5.0",
          "state": {
            "_model_module": "@jupyter-widgets/controls",
            "_model_module_version": "1.5.0",
            "_model_name": "DescriptionStyleModel",
            "_view_count": null,
            "_view_module": "@jupyter-widgets/base",
            "_view_module_version": "1.2.0",
            "_view_name": "StyleView",
            "description_width": ""
          }
        },
        "8b92d94338c54d1f85d81c507b9007f4": {
          "model_module": "@jupyter-widgets/base",
          "model_name": "LayoutModel",
          "model_module_version": "1.2.0",
          "state": {
            "_model_module": "@jupyter-widgets/base",
            "_model_module_version": "1.2.0",
            "_model_name": "LayoutModel",
            "_view_count": null,
            "_view_module": "@jupyter-widgets/base",
            "_view_module_version": "1.2.0",
            "_view_name": "LayoutView",
            "align_content": null,
            "align_items": null,
            "align_self": null,
            "border": null,
            "bottom": null,
            "display": null,
            "flex": null,
            "flex_flow": null,
            "grid_area": null,
            "grid_auto_columns": null,
            "grid_auto_flow": null,
            "grid_auto_rows": null,
            "grid_column": null,
            "grid_gap": null,
            "grid_row": null,
            "grid_template_areas": null,
            "grid_template_columns": null,
            "grid_template_rows": null,
            "height": null,
            "justify_content": null,
            "justify_items": null,
            "left": null,
            "margin": null,
            "max_height": null,
            "max_width": null,
            "min_height": null,
            "min_width": null,
            "object_fit": null,
            "object_position": null,
            "order": null,
            "overflow": null,
            "overflow_x": null,
            "overflow_y": null,
            "padding": null,
            "right": null,
            "top": null,
            "visibility": null,
            "width": null
          }
        },
        "58c703e8a3c8424ab3f13763e859c75f": {
          "model_module": "@jupyter-widgets/controls",
          "model_name": "ProgressStyleModel",
          "model_module_version": "1.5.0",
          "state": {
            "_model_module": "@jupyter-widgets/controls",
            "_model_module_version": "1.5.0",
            "_model_name": "ProgressStyleModel",
            "_view_count": null,
            "_view_module": "@jupyter-widgets/base",
            "_view_module_version": "1.2.0",
            "_view_name": "StyleView",
            "bar_color": null,
            "description_width": ""
          }
        },
        "c2f1a14c82ca4857ae94cee403b4d5a6": {
          "model_module": "@jupyter-widgets/base",
          "model_name": "LayoutModel",
          "model_module_version": "1.2.0",
          "state": {
            "_model_module": "@jupyter-widgets/base",
            "_model_module_version": "1.2.0",
            "_model_name": "LayoutModel",
            "_view_count": null,
            "_view_module": "@jupyter-widgets/base",
            "_view_module_version": "1.2.0",
            "_view_name": "LayoutView",
            "align_content": null,
            "align_items": null,
            "align_self": null,
            "border": null,
            "bottom": null,
            "display": null,
            "flex": null,
            "flex_flow": null,
            "grid_area": null,
            "grid_auto_columns": null,
            "grid_auto_flow": null,
            "grid_auto_rows": null,
            "grid_column": null,
            "grid_gap": null,
            "grid_row": null,
            "grid_template_areas": null,
            "grid_template_columns": null,
            "grid_template_rows": null,
            "height": null,
            "justify_content": null,
            "justify_items": null,
            "left": null,
            "margin": null,
            "max_height": null,
            "max_width": null,
            "min_height": null,
            "min_width": null,
            "object_fit": null,
            "object_position": null,
            "order": null,
            "overflow": null,
            "overflow_x": null,
            "overflow_y": null,
            "padding": null,
            "right": null,
            "top": null,
            "visibility": null,
            "width": null
          }
        },
        "3e06e756a3304e7781461b03848fb8dd": {
          "model_module": "@jupyter-widgets/controls",
          "model_name": "DescriptionStyleModel",
          "model_module_version": "1.5.0",
          "state": {
            "_model_module": "@jupyter-widgets/controls",
            "_model_module_version": "1.5.0",
            "_model_name": "DescriptionStyleModel",
            "_view_count": null,
            "_view_module": "@jupyter-widgets/base",
            "_view_module_version": "1.2.0",
            "_view_name": "StyleView",
            "description_width": ""
          }
        },
        "277d33e7f7d945a99daa7eb97ed6a82b": {
          "model_module": "@jupyter-widgets/controls",
          "model_name": "HBoxModel",
          "model_module_version": "1.5.0",
          "state": {
            "_dom_classes": [],
            "_model_module": "@jupyter-widgets/controls",
            "_model_module_version": "1.5.0",
            "_model_name": "HBoxModel",
            "_view_count": null,
            "_view_module": "@jupyter-widgets/controls",
            "_view_module_version": "1.5.0",
            "_view_name": "HBoxView",
            "box_style": "",
            "children": [
              "IPY_MODEL_b5808e92bae74323b6b045f9f1cf4559",
              "IPY_MODEL_6815112e2a0a4cc8aba4563fd0ed2600",
              "IPY_MODEL_c57ff636785b4b80a43efea5287651c0"
            ],
            "layout": "IPY_MODEL_5553eeafa5254ef9b46334bb81d0fe57"
          }
        },
        "b5808e92bae74323b6b045f9f1cf4559": {
          "model_module": "@jupyter-widgets/controls",
          "model_name": "HTMLModel",
          "model_module_version": "1.5.0",
          "state": {
            "_dom_classes": [],
            "_model_module": "@jupyter-widgets/controls",
            "_model_module_version": "1.5.0",
            "_model_name": "HTMLModel",
            "_view_count": null,
            "_view_module": "@jupyter-widgets/controls",
            "_view_module_version": "1.5.0",
            "_view_name": "HTMLView",
            "description": "",
            "description_tooltip": null,
            "layout": "IPY_MODEL_ca182bdb4be841bf8e55e35ec718e42b",
            "placeholder": "​",
            "style": "IPY_MODEL_072b1e8de3374773a54910970383b280",
            "value": "Downloading: 100%"
          }
        },
        "6815112e2a0a4cc8aba4563fd0ed2600": {
          "model_module": "@jupyter-widgets/controls",
          "model_name": "FloatProgressModel",
          "model_module_version": "1.5.0",
          "state": {
            "_dom_classes": [],
            "_model_module": "@jupyter-widgets/controls",
            "_model_module_version": "1.5.0",
            "_model_name": "FloatProgressModel",
            "_view_count": null,
            "_view_module": "@jupyter-widgets/controls",
            "_view_module_version": "1.5.0",
            "_view_name": "ProgressView",
            "bar_style": "success",
            "description": "",
            "description_tooltip": null,
            "layout": "IPY_MODEL_85930066b40947f3a0258f3d9301d2c1",
            "max": 10,
            "min": 0,
            "orientation": "horizontal",
            "style": "IPY_MODEL_9aeb2239024a46bfa5e5c11322b066fd",
            "value": 10
          }
        },
        "c57ff636785b4b80a43efea5287651c0": {
          "model_module": "@jupyter-widgets/controls",
          "model_name": "HTMLModel",
          "model_module_version": "1.5.0",
          "state": {
            "_dom_classes": [],
            "_model_module": "@jupyter-widgets/controls",
            "_model_module_version": "1.5.0",
            "_model_name": "HTMLModel",
            "_view_count": null,
            "_view_module": "@jupyter-widgets/controls",
            "_view_module_version": "1.5.0",
            "_view_name": "HTMLView",
            "description": "",
            "description_tooltip": null,
            "layout": "IPY_MODEL_abb5909be2584b01b2304fc93bdfe5f5",
            "placeholder": "​",
            "style": "IPY_MODEL_dc99e13a71344167b0d8c2d1199f5aac",
            "value": ""
          }
        },
        "5553eeafa5254ef9b46334bb81d0fe57": {
          "model_module": "@jupyter-widgets/base",
          "model_name": "LayoutModel",
          "model_module_version": "1.2.0",
          "state": {
            "_model_module": "@jupyter-widgets/base",
            "_model_module_version": "1.2.0",
            "_model_name": "LayoutModel",
            "_view_count": null,
            "_view_module": "@jupyter-widgets/base",
            "_view_module_version": "1.2.0",
            "_view_name": "LayoutView",
            "align_content": null,
            "align_items": null,
            "align_self": null,
            "border": null,
            "bottom": null,
            "display": null,
            "flex": null,
            "flex_flow": null,
            "grid_area": null,
            "grid_auto_columns": null,
            "grid_auto_flow": null,
            "grid_auto_rows": null,
            "grid_column": null,
            "grid_gap": null,
            "grid_row": null,
            "grid_template_areas": null,
            "grid_template_columns": null,
            "grid_template_rows": null,
            "height": null,
            "justify_content": null,
            "justify_items": null,
            "left": null,
            "margin": null,
            "max_height": null,
            "max_width": null,
            "min_height": null,
            "min_width": null,
            "object_fit": null,
            "object_position": null,
            "order": null,
            "overflow": null,
            "overflow_x": null,
            "overflow_y": null,
            "padding": null,
            "right": null,
            "top": null,
            "visibility": null,
            "width": null
          }
        },
        "ca182bdb4be841bf8e55e35ec718e42b": {
          "model_module": "@jupyter-widgets/base",
          "model_name": "LayoutModel",
          "model_module_version": "1.2.0",
          "state": {
            "_model_module": "@jupyter-widgets/base",
            "_model_module_version": "1.2.0",
            "_model_name": "LayoutModel",
            "_view_count": null,
            "_view_module": "@jupyter-widgets/base",
            "_view_module_version": "1.2.0",
            "_view_name": "LayoutView",
            "align_content": null,
            "align_items": null,
            "align_self": null,
            "border": null,
            "bottom": null,
            "display": null,
            "flex": null,
            "flex_flow": null,
            "grid_area": null,
            "grid_auto_columns": null,
            "grid_auto_flow": null,
            "grid_auto_rows": null,
            "grid_column": null,
            "grid_gap": null,
            "grid_row": null,
            "grid_template_areas": null,
            "grid_template_columns": null,
            "grid_template_rows": null,
            "height": null,
            "justify_content": null,
            "justify_items": null,
            "left": null,
            "margin": null,
            "max_height": null,
            "max_width": null,
            "min_height": null,
            "min_width": null,
            "object_fit": null,
            "object_position": null,
            "order": null,
            "overflow": null,
            "overflow_x": null,
            "overflow_y": null,
            "padding": null,
            "right": null,
            "top": null,
            "visibility": null,
            "width": null
          }
        },
        "072b1e8de3374773a54910970383b280": {
          "model_module": "@jupyter-widgets/controls",
          "model_name": "DescriptionStyleModel",
          "model_module_version": "1.5.0",
          "state": {
            "_model_module": "@jupyter-widgets/controls",
            "_model_module_version": "1.5.0",
            "_model_name": "DescriptionStyleModel",
            "_view_count": null,
            "_view_module": "@jupyter-widgets/base",
            "_view_module_version": "1.2.0",
            "_view_name": "StyleView",
            "description_width": ""
          }
        },
        "85930066b40947f3a0258f3d9301d2c1": {
          "model_module": "@jupyter-widgets/base",
          "model_name": "LayoutModel",
          "model_module_version": "1.2.0",
          "state": {
            "_model_module": "@jupyter-widgets/base",
            "_model_module_version": "1.2.0",
            "_model_name": "LayoutModel",
            "_view_count": null,
            "_view_module": "@jupyter-widgets/base",
            "_view_module_version": "1.2.0",
            "_view_name": "LayoutView",
            "align_content": null,
            "align_items": null,
            "align_self": null,
            "border": null,
            "bottom": null,
            "display": null,
            "flex": null,
            "flex_flow": null,
            "grid_area": null,
            "grid_auto_columns": null,
            "grid_auto_flow": null,
            "grid_auto_rows": null,
            "grid_column": null,
            "grid_gap": null,
            "grid_row": null,
            "grid_template_areas": null,
            "grid_template_columns": null,
            "grid_template_rows": null,
            "height": null,
            "justify_content": null,
            "justify_items": null,
            "left": null,
            "margin": null,
            "max_height": null,
            "max_width": null,
            "min_height": null,
            "min_width": null,
            "object_fit": null,
            "object_position": null,
            "order": null,
            "overflow": null,
            "overflow_x": null,
            "overflow_y": null,
            "padding": null,
            "right": null,
            "top": null,
            "visibility": null,
            "width": null
          }
        },
        "9aeb2239024a46bfa5e5c11322b066fd": {
          "model_module": "@jupyter-widgets/controls",
          "model_name": "ProgressStyleModel",
          "model_module_version": "1.5.0",
          "state": {
            "_model_module": "@jupyter-widgets/controls",
            "_model_module_version": "1.5.0",
            "_model_name": "ProgressStyleModel",
            "_view_count": null,
            "_view_module": "@jupyter-widgets/base",
            "_view_module_version": "1.2.0",
            "_view_name": "StyleView",
            "bar_color": null,
            "description_width": ""
          }
        },
        "abb5909be2584b01b2304fc93bdfe5f5": {
          "model_module": "@jupyter-widgets/base",
          "model_name": "LayoutModel",
          "model_module_version": "1.2.0",
          "state": {
            "_model_module": "@jupyter-widgets/base",
            "_model_module_version": "1.2.0",
            "_model_name": "LayoutModel",
            "_view_count": null,
            "_view_module": "@jupyter-widgets/base",
            "_view_module_version": "1.2.0",
            "_view_name": "LayoutView",
            "align_content": null,
            "align_items": null,
            "align_self": null,
            "border": null,
            "bottom": null,
            "display": null,
            "flex": null,
            "flex_flow": null,
            "grid_area": null,
            "grid_auto_columns": null,
            "grid_auto_flow": null,
            "grid_auto_rows": null,
            "grid_column": null,
            "grid_gap": null,
            "grid_row": null,
            "grid_template_areas": null,
            "grid_template_columns": null,
            "grid_template_rows": null,
            "height": null,
            "justify_content": null,
            "justify_items": null,
            "left": null,
            "margin": null,
            "max_height": null,
            "max_width": null,
            "min_height": null,
            "min_width": null,
            "object_fit": null,
            "object_position": null,
            "order": null,
            "overflow": null,
            "overflow_x": null,
            "overflow_y": null,
            "padding": null,
            "right": null,
            "top": null,
            "visibility": null,
            "width": null
          }
        },
        "dc99e13a71344167b0d8c2d1199f5aac": {
          "model_module": "@jupyter-widgets/controls",
          "model_name": "DescriptionStyleModel",
          "model_module_version": "1.5.0",
          "state": {
            "_model_module": "@jupyter-widgets/controls",
            "_model_module_version": "1.5.0",
            "_model_name": "DescriptionStyleModel",
            "_view_count": null,
            "_view_module": "@jupyter-widgets/base",
            "_view_module_version": "1.2.0",
            "_view_name": "StyleView",
            "description_width": ""
          }
        }
      }
    }
  },
  "cells": [
    {
      "cell_type": "markdown",
      "source": [
        "# Big Data for Transportation: Mapping Operations Across Python\n",
        "\n",
        "This notebook provides a tutorial on using \"map\" operations for efficient data processing. We'll explore various Python libraries, starting from the built-in `map` function and progressing to NumPy, JAX.\n",
        "Later on we will see magic commands for interacting with larger datasets on Google Cloud.\n",
        "\n",
        "This tutorial is structured to showcase how the concept of \"map\" evolves and scales as we move from basic Python to specialized libraries for numerical computation and big data processing.\n",
        "\n",
        "Let's get started!"
      ],
      "metadata": {
        "id": "QLNaX7XAUfWc"
      }
    },
    {
      "cell_type": "markdown",
      "source": [
        "## 1. Python's Built-in `map` Function\n",
        "\n",
        "The `map()` function in Python is a fundamental tool for applying a given function to each item of an iterable (like a list, tuple, etc.) and returning an iterator that yields the results. It embodies the core concept of \"mapping\" a transformation over a dataset.\n",
        "\n",
        "Let's look at some basic examples to understand how `map` works."
      ],
      "metadata": {
        "id": "1mw_T9xBU-83"
      }
    },
    {
      "cell_type": "markdown",
      "source": [
        "### Example 1: Squaring Numbers\n",
        "\n",
        "\n",
        "Suppose we have a list of numbers and we want to square each number. We can use `map` along with a lambda function or a defined function to achieve this.\n"
      ],
      "metadata": {
        "id": "lNICCBFlVOwU"
      }
    },
    {
      "cell_type": "code",
      "source": [
        "numbers = [1, 2, 3, 4, 5]\n",
        "\n",
        "# Using a lambda function for squaring\n",
        "squared_numbers_map = map(lambda x: x**2, numbers)\n",
        "\n",
        "# `map` returns an iterator, so we need to convert it to a list to see the results\n",
        "squared_numbers_list = list(squared_numbers_map)\n",
        "tuple(squared_numbers_map)\n",
        "print(f\"Original numbers: {numbers}\")\n",
        "print(f\"Squared numbers using map: {squared_numbers_list}\")"
      ],
      "metadata": {
        "colab": {
          "base_uri": "https://localhost:8080/"
        },
        "id": "3dASbwDFUZCP",
        "outputId": "1d8c6ce1-c7ab-4bed-c152-3bbddd8f999b"
      },
      "execution_count": null,
      "outputs": [
        {
          "output_type": "stream",
          "name": "stdout",
          "text": [
            "Original numbers: [1, 2, 3, 4, 5]\n",
            "Squared numbers using map: [1, 4, 9, 16, 25]\n"
          ]
        }
      ]
    },
    {
      "cell_type": "markdown",
      "source": [
        "**Explanation:**\n",
        "\n",
        "*   `lambda x: x**2` is an anonymous function that takes an input `x` and returns its square.\n",
        "*   `map(lambda x: x**2, numbers)` applies this lambda function to each element in the `numbers` list.\n",
        "*   `list(squared_numbers_map)` converts the iterator returned by `map` into a list for display."
      ],
      "metadata": {
        "id": "ITWgFrJTUd6y"
      }
    },
    {
      "cell_type": "markdown",
      "source": [
        "### Example 2: Converting Strings to Uppercase\n",
        "\n",
        "\n",
        "Let's say we have a list of city names and we want to convert them to uppercase.\n"
      ],
      "metadata": {
        "id": "F6f2NKoCV1nm"
      }
    },
    {
      "cell_type": "code",
      "execution_count": null,
      "metadata": {
        "colab": {
          "base_uri": "https://localhost:8080/"
        },
        "id": "cULqleqkQD5J",
        "outputId": "6d1bea76-7bf3-4cc2-caaf-c613104ef82d"
      },
      "outputs": [
        {
          "output_type": "stream",
          "name": "stdout",
          "text": [
            "Original cities: ['new york', 'london', 'paris', 'tokyo']\n",
            "Uppercase cities using map: ['NEW YORK', 'LONDON', 'PARIS', 'TOKYO']\n"
          ]
        }
      ],
      "source": [
        "cities = [\"new york\", \"london\", \"paris\", \"tokyo\"]\n",
        "\n",
        "uppercase_cities_map = map(str.upper, cities) # Using the built-in str.upper method\n",
        "\n",
        "uppercase_cities_list = list(uppercase_cities_map)\n",
        "print(f\"Original cities: {cities}\")\n",
        "print(f\"Uppercase cities using map: {uppercase_cities_list}\")"
      ]
    },
    {
      "cell_type": "code",
      "source": [
        "tmp = []\n",
        "for c in cities:\n",
        "  tmp.append(str.upper(c))\n",
        "print(tmp)"
      ],
      "metadata": {
        "colab": {
          "base_uri": "https://localhost:8080/"
        },
        "id": "O27ZrxU0mmL2",
        "outputId": "b87490b4-5a9b-4615-afd2-a26bcbc5b44c"
      },
      "execution_count": null,
      "outputs": [
        {
          "output_type": "stream",
          "name": "stdout",
          "text": [
            "['NEW YORK', 'LONDON', 'PARIS', 'TOKYO']\n"
          ]
        }
      ]
    },
    {
      "cell_type": "markdown",
      "source": [
        "**Explanation:**\n",
        "\n",
        "*   `str.upper` is a built-in string method that converts a string to uppercase. We pass this method directly as the function to `map`.\n",
        "*   `map(str.upper, cities)` applies the `str.upper` method to each string in the `cities` list."
      ],
      "metadata": {
        "id": "RCZJDdZDWOqx"
      }
    },
    {
      "cell_type": "markdown",
      "source": [
        "### Example 3: Applying a Custom Function\n",
        "\n",
        "Let's define a function that calculates the distance traveled given speed and time, and use `map` to apply it to lists of speeds and times."
      ],
      "metadata": {
        "id": "Qud2uTq7WfsD"
      }
    },
    {
      "cell_type": "code",
      "source": [
        "def calculate_distance(speed, time):\n",
        "    return speed * time\n",
        "\n",
        "speeds = [60, 70, 80] # km/h\n",
        "times = [1.5, 2, 0.75] # hours\n",
        "\n",
        "distances_map = map(calculate_distance, speeds, times) # Note: map can take multiple iterables\n",
        "\n",
        "distances_list = list(distances_map)\n",
        "print(f\"Speeds: {speeds}\")\n",
        "print(f\"Times: {times}\")\n",
        "print(f\"Distances using map: {distances_list} km\")"
      ],
      "metadata": {
        "colab": {
          "base_uri": "https://localhost:8080/"
        },
        "id": "JtV-Gsv5WN49",
        "outputId": "91bff266-6346-4fcf-ae2b-b7cf5c09ff53"
      },
      "execution_count": null,
      "outputs": [
        {
          "output_type": "stream",
          "name": "stdout",
          "text": [
            "Speeds: [60, 70, 80]\n",
            "Times: [1.5, 2, 0.75]\n",
            "Distances using map: [90.0, 140, 60.0] km\n"
          ]
        }
      ]
    },
    {
      "cell_type": "markdown",
      "source": [
        "**Explanation:**\n",
        "\n",
        "*   `calculate_distance(speed, time)` is a function we defined.\n",
        "*   `map(calculate_distance, speeds, times)` applies `calculate_distance` to corresponding elements from the `speeds` and `times` lists.  `map` can work with multiple input iterables, providing elements to the function in parallel."
      ],
      "metadata": {
        "id": "ZmLp-xV1Wsqg"
      }
    },
    {
      "cell_type": "markdown",
      "source": [
        "### Exercise\n",
        "\n",
        "**Exercise 1:  Celsius to Fahrenheit Conversion**\n",
        "\n",
        "Write a function `celsius_to_fahrenheit(c)` that converts Celsius to Fahrenheit using the formula:  F = (9/5) * C + 32.\n",
        "Then, use `map` to apply this function to a list of Celsius temperatures: `celsius_temps = [0, 10, 20, 30, 100]`."
      ],
      "metadata": {
        "id": "b46HU0vhWtox"
      }
    },
    {
      "cell_type": "code",
      "source": [
        "# Your code for Exercise 1 here:\n",
        "def celsius_to_fahrenheit(c):\n",
        "    return (9/5) * c + 32\n",
        "\n",
        "celsius_temps = [0, 10, 20, 30, 100]\n",
        "fahrenheit_temps_map = map(celsius_to_fahrenheit, celsius_temps)\n",
        "fahrenheit_temps_list = list(fahrenheit_temps_map)\n",
        "print(f\"Celsius temperatures: {celsius_temps}\")\n",
        "print(f\"Fahrenheit temperatures: {fahrenheit_temps_list}\")"
      ],
      "metadata": {
        "colab": {
          "base_uri": "https://localhost:8080/"
        },
        "id": "OD5s-iU9k_wT",
        "outputId": "5c72365d-9314-4757-b91e-4c3ffabcd153"
      },
      "execution_count": null,
      "outputs": [
        {
          "output_type": "stream",
          "name": "stdout",
          "text": [
            "Celsius temperatures: [0, 10, 20, 30, 100]\n",
            "Fahrenheit temperatures: [32.0, 50.0, 68.0, 86.0, 212.0]\n"
          ]
        }
      ]
    },
    {
      "cell_type": "markdown",
      "source": [
        "**Exercise 2:  Calculate Speed from Distance and Time (Multiple Arrays)**\n",
        "\n",
        "You have two lists: `distances_km = [100, 250, 50, 120]` and `times_hr = [2, 5, 1, 1.5]`.\n",
        "Use `map` and a lambda function to calculate the speed (speed = distance / time) for each corresponding pair of distance and time values."
      ],
      "metadata": {
        "id": "GhvqhKhrl-4Z"
      }
    },
    {
      "cell_type": "code",
      "source": [
        "# Your code for Exercise 2 here:\n",
        "distances_km = [100, 250, 50, 120]\n",
        "times_hr = [2, 5, 1, 1.5]\n",
        "\n",
        "speeds_map = map(lambda d, t: d / t, distances_km, times_hr)\n",
        "speeds_list = list(speeds_map)\n",
        "print(f\"Distances (km): {distances_km}\")\n",
        "print(f\"Times (hr): {times_hr}\")\n",
        "print(f\"Speeds (km/hr): {speeds_list}\")"
      ],
      "metadata": {
        "colab": {
          "base_uri": "https://localhost:8080/"
        },
        "id": "jUNOdr8fmCxD",
        "outputId": "1e3c767c-3d4d-440b-9d53-d9cdc38707f8"
      },
      "execution_count": null,
      "outputs": [
        {
          "output_type": "stream",
          "name": "stdout",
          "text": [
            "Distances (km): [100, 250, 50, 120]\n",
            "Times (hr): [2, 5, 1, 1.5]\n",
            "Speeds (km/hr): [50.0, 50.0, 50.0, 80.0]\n"
          ]
        }
      ]
    },
    {
      "cell_type": "markdown",
      "source": [
        "**Exercise 3:  Categorize Trip Distance (Indexing within lambda)**\n",
        "\n",
        "You have a list of trip distances: `trip_distances = [2.5, 15.8, 0.9, 7.3, 22.1]`.\n",
        "And categories: `categories = [\"short\", \"medium\", \"long\"]`.\n",
        "Use `map` and a lambda function that categorizes each trip distance as follows:\n",
        "- If distance < 5 km: \"short\"\n",
        "- If 5 km <= distance < 15 km: \"medium\"\n",
        "- If distance >= 15 km: \"long\"\n",
        "\n",
        "*Hint: You might need to use indexing within your lambda function to access the `categories` list based on conditions.*\n"
      ],
      "metadata": {
        "id": "VGrApxhSnVb_"
      }
    },
    {
      "cell_type": "code",
      "source": [
        "# Your code for Exercise 3 here:\n",
        "trip_distances = [2.5, 15.8, 0.9, 7.3, 22.1]\n",
        "categories = [\"short\", \"medium\", \"long\"]\n",
        "\n",
        "trip_categories_map = map(lambda dist: categories[0] if dist < 5 else (categories[1] if dist < 15 else categories[2]), trip_distances)\n",
        "trip_categories_list = list(trip_categories_map)\n",
        "print(f\"Trip distances: {trip_distances}\")\n",
        "print(f\"Trip categories: {trip_categories_list}\")"
      ],
      "metadata": {
        "colab": {
          "base_uri": "https://localhost:8080/"
        },
        "id": "Vth11Gs5nXOF",
        "outputId": "1c5b6b3e-9753-4dc4-d49b-8e8468dd77e0"
      },
      "execution_count": null,
      "outputs": [
        {
          "output_type": "stream",
          "name": "stdout",
          "text": [
            "Trip distances: [2.5, 15.8, 0.9, 7.3, 22.1]\n",
            "Trip categories: ['short', 'long', 'short', 'medium', 'long']\n"
          ]
        }
      ]
    },
    {
      "cell_type": "markdown",
      "source": [
        "### Limitations of Python's `map` for Big Data\n",
        "\n",
        "While `map` is elegant and useful for many tasks, it has limitations when dealing with very large datasets and computationally intensive operations, especially in the context of transportation data, which can be massive.\n",
        "\n",
        "*   **Performance:** Python's built-in `map` is implemented in C, but the function you apply is still executed in Python's interpreter. For complex operations or large datasets, this can become a performance bottleneck.\n",
        "*   **No Vectorization or Parallelism:**  Python's `map` doesn't inherently offer vectorization (performing operations on entire arrays at once) or automatic parallelism (utilizing multiple CPU cores or GPUs).\n",
        "\n",
        "To overcome these limitations, we turn to libraries like NumPy and JAX, which are designed for numerical computation and offer significant performance improvements, especially when dealing with arrays and large datasets."
      ],
      "metadata": {
        "id": "DZDz52i1W_sO"
      }
    },
    {
      "cell_type": "markdown",
      "source": [
        "## 2. NumPy: Numerical Powerhouse for Arrays\n",
        "\n",
        "NumPy (Numerical Python) is the cornerstone of numerical computing in Python. It introduces the concept of **arrays**, which are highly efficient data structures for storing and manipulating numerical data. NumPy operations are often implemented in compiled languages (like C and Fortran), making them significantly faster than standard Python loops, especially for large datasets."
      ],
      "metadata": {
        "id": "3VbT3CwhXEFv"
      }
    },
    {
      "cell_type": "markdown",
      "source": [
        "### 2.1. Concepts of NumPy Arrays\n",
        "\n",
        "*   **Homogeneous Data:** NumPy arrays store elements of the same data type (e.g., all integers, all floats). This homogeneity allows for efficient memory storage and faster operations.\n",
        "*   **Multidimensional:** Arrays can be one-dimensional (vectors), two-dimensional (matrices or tables), or have even higher dimensions.\n",
        "*   **Vectorization:** NumPy operations are often vectorized, meaning they operate on entire arrays element-wise without explicit loops. This is a key factor in NumPy's performance.\n",
        "*   **Broadcasting:** NumPy can perform operations on arrays with different shapes in certain cases, using a mechanism called broadcasting, which automatically expands the smaller array to match the shape of the larger array."
      ],
      "metadata": {
        "id": "mnzmGc_mXUFd"
      }
    },
    {
      "cell_type": "markdown",
      "source": [
        "### 2.2. Creating NumPy Arrays\n",
        "\n",
        "Let's see how to create different types of NumPy arrays."
      ],
      "metadata": {
        "id": "rznFnqdeX9QG"
      }
    },
    {
      "cell_type": "code",
      "source": [
        "import numpy as np\n",
        "\n",
        "# 2.2.1 A 1D array is like a list or a vector.\n",
        "one_d_array = np.array([10, 20, 30, 40, 50])\n",
        "print(\"1D Array:\")\n",
        "print(one_d_array)\n",
        "print(f\"Shape: {one_d_array.shape}\") # Shape is (5,), indicating 5 elements in 1 dimension\n",
        "print(f\"Data type: {one_d_array.dtype}\") # Data type is inferred automatically (int64 here)"
      ],
      "metadata": {
        "colab": {
          "base_uri": "https://localhost:8080/"
        },
        "id": "bEO4mtMgX-HG",
        "outputId": "a406a40f-17d7-4f6d-99d6-205545a13b78"
      },
      "execution_count": null,
      "outputs": [
        {
          "output_type": "stream",
          "name": "stdout",
          "text": [
            "1D Array:\n",
            "[10 20 30 40 50]\n",
            "Shape: (5,)\n",
            "Data type: int64\n"
          ]
        }
      ]
    },
    {
      "cell_type": "markdown",
      "source": [
        "#### 2.2.2. 2D Array (Matrix/Table) - Representing Excel-like Data\n",
        "\n",
        "A 2D array can represent tabular data, much like an Excel spreadsheet or a table in a database. Let's imagine we have data about taxi trips: trip ID, distance, and fare."
      ],
      "metadata": {
        "id": "0I6TDZdLafWJ"
      }
    },
    {
      "cell_type": "code",
      "source": [
        "taxi_data_2d = np.array([\n",
        "    [1, 5.2, 15.5],  # Trip 1: ID, Distance, Fare\n",
        "    [2, 8.1, 22.0],  # Trip 2\n",
        "    [3, 3.5, 10.8],  # Trip 3\n",
        "    [4, 12.0, 35.2] # Trip 4\n",
        "])\n",
        "\n",
        "print(\"\\n2D Array (Taxi Trip Data - Table):\")\n",
        "print(taxi_data_2d)\n",
        "print(f\"Shape: {taxi_data_2d.shape}\") # Shape is (4, 3), 4 rows (trips), 3 columns (features)\n"
      ],
      "metadata": {
        "colab": {
          "base_uri": "https://localhost:8080/"
        },
        "id": "3kdzGoeqYOEZ",
        "outputId": "cdd31dd6-eeaf-40c0-d67f-1b56dbcbb0ec"
      },
      "execution_count": null,
      "outputs": [
        {
          "output_type": "stream",
          "name": "stdout",
          "text": [
            "\n",
            "2D Array (Taxi Trip Data - Table):\n",
            "[[ 1.   5.2 15.5]\n",
            " [ 2.   8.1 22. ]\n",
            " [ 3.   3.5 10.8]\n",
            " [ 4.  12.  35.2]]\n",
            "Shape: (4, 3)\n"
          ]
        }
      ]
    },
    {
      "cell_type": "markdown",
      "source": [
        "### 2.2.3. 3D Array (Sequential Data) - Representing Time Series\n",
        "\n",
        "A 3D array can be used to represent sequential data, such as sensor readings over time for multiple vehicles. Imagine we have sensor readings (speed, acceleration) taken every second for 3 vehicles over 5 seconds."
      ],
      "metadata": {
        "id": "K35dZuQZc4IH"
      }
    },
    {
      "cell_type": "code",
      "source": [
        "sequential_data_3d = np.array([\n",
        "    [ # Vehicle 1\n",
        "        [10, 0.1], # Second 1: Speed, Acceleration\n",
        "        [15, 0.2], # Second 2\n",
        "        [20, 0.0], # Second 3\n",
        "        [22, -0.1],# Second 4\n",
        "        [20, -0.2] # Second 5\n",
        "    ],\n",
        "    [ # Vehicle 2\n",
        "        [5, 0.05],\n",
        "        [8, 0.1],\n",
        "        [12, 0.0],\n",
        "        [10, -0.05],\n",
        "        [8, -0.1]\n",
        "    ],\n",
        "    [ # Vehicle 3\n",
        "        [25, 0.2],\n",
        "        [30, 0.1],\n",
        "        [32, 0.05],\n",
        "        [35, 0.0],\n",
        "        [33, -0.1]\n",
        "    ]\n",
        "])\n",
        "\n",
        "print(\"\\n3D Array (Sequential Sensor Data):\")\n",
        "print(sequential_data_3d)\n",
        "print(f\"Shape: {sequential_data_3d.shape}\") # Shape is (3, 5, 2): 3 vehicles, 5 time steps, 2 features"
      ],
      "metadata": {
        "colab": {
          "base_uri": "https://localhost:8080/"
        },
        "id": "rB2_mZGwc3dS",
        "outputId": "9dec41d2-728e-4df7-e391-21337e295789"
      },
      "execution_count": null,
      "outputs": [
        {
          "output_type": "stream",
          "name": "stdout",
          "text": [
            "\n",
            "3D Array (Sequential Sensor Data):\n",
            "[[[10.    0.1 ]\n",
            "  [15.    0.2 ]\n",
            "  [20.    0.  ]\n",
            "  [22.   -0.1 ]\n",
            "  [20.   -0.2 ]]\n",
            "\n",
            " [[ 5.    0.05]\n",
            "  [ 8.    0.1 ]\n",
            "  [12.    0.  ]\n",
            "  [10.   -0.05]\n",
            "  [ 8.   -0.1 ]]\n",
            "\n",
            " [[25.    0.2 ]\n",
            "  [30.    0.1 ]\n",
            "  [32.    0.05]\n",
            "  [35.    0.  ]\n",
            "  [33.   -0.1 ]]]\n",
            "Shape: (3, 5, 2)\n"
          ]
        }
      ]
    },
    {
      "cell_type": "markdown",
      "source": [
        "\n",
        "**Interpretation:**\n",
        "\n",
        "*   The first dimension (axis 0) represents vehicles.\n",
        "*   The second dimension (axis 1) represents time steps (seconds).\n",
        "*   The third dimension (axis 2) represents sensor features (speed, acceleration)."
      ],
      "metadata": {
        "id": "-_uIide5dd1X"
      }
    },
    {
      "cell_type": "markdown",
      "source": [
        "### 2.2.4. Quick Array Creation: `np.ones`, `np.zeros`, `np.random.rand`\n",
        "\n",
        "NumPy provides convenient functions to quickly create large arrays filled with specific values or random numbers. These are useful for initializing arrays, creating placeholders, or generating test data."
      ],
      "metadata": {
        "id": "kfmo5ZIUn2Os"
      }
    },
    {
      "cell_type": "code",
      "source": [
        "# Create an array of ones\n",
        "ones_array = np.ones((10, 10)) # 10x10 array filled with 1.0s\n",
        "print(\"Array of ones (10x10):\")\n",
        "print(ones_array)\n",
        "print(f\"Shape: {ones_array.shape}\")\n",
        "\n",
        "# Create an array of zeros\n",
        "zeros_array = np.zeros((5, 20), dtype=int) # 5x20 array filled with 0s, explicitly set integer dtype\n",
        "print(\"\\nArray of zeros (5x20, integer type):\")\n",
        "print(zeros_array)\n",
        "print(f\"Shape: {zeros_array.shape}, Data type: {zeros_array.dtype}\")\n",
        "\n",
        "# Create an array with random values between 0 and 1\n",
        "random_array = np.random.rand(1000, 1000) # 1000x1000 array with random floats [0, 1)\n",
        "print(\"\\nArray with random values (1000x1000, first few elements):\")\n",
        "print(random_array[:3, :3]) # Print only the top-left 3x3 portion for brevity\n",
        "print(f\"Shape: {random_array.shape}\")\n",
        "del random_array"
      ],
      "metadata": {
        "colab": {
          "base_uri": "https://localhost:8080/"
        },
        "id": "j0zfzfexn-QH",
        "outputId": "ed9cf15b-c875-4fee-f9cd-bec611e58f80"
      },
      "execution_count": null,
      "outputs": [
        {
          "output_type": "stream",
          "name": "stdout",
          "text": [
            "Array of ones (10x10):\n",
            "[[1. 1. 1. 1. 1. 1. 1. 1. 1. 1.]\n",
            " [1. 1. 1. 1. 1. 1. 1. 1. 1. 1.]\n",
            " [1. 1. 1. 1. 1. 1. 1. 1. 1. 1.]\n",
            " [1. 1. 1. 1. 1. 1. 1. 1. 1. 1.]\n",
            " [1. 1. 1. 1. 1. 1. 1. 1. 1. 1.]\n",
            " [1. 1. 1. 1. 1. 1. 1. 1. 1. 1.]\n",
            " [1. 1. 1. 1. 1. 1. 1. 1. 1. 1.]\n",
            " [1. 1. 1. 1. 1. 1. 1. 1. 1. 1.]\n",
            " [1. 1. 1. 1. 1. 1. 1. 1. 1. 1.]\n",
            " [1. 1. 1. 1. 1. 1. 1. 1. 1. 1.]]\n",
            "Shape: (10, 10)\n",
            "\n",
            "Array of zeros (5x20, integer type):\n",
            "[[0 0 0 0 0 0 0 0 0 0 0 0 0 0 0 0 0 0 0 0]\n",
            " [0 0 0 0 0 0 0 0 0 0 0 0 0 0 0 0 0 0 0 0]\n",
            " [0 0 0 0 0 0 0 0 0 0 0 0 0 0 0 0 0 0 0 0]\n",
            " [0 0 0 0 0 0 0 0 0 0 0 0 0 0 0 0 0 0 0 0]\n",
            " [0 0 0 0 0 0 0 0 0 0 0 0 0 0 0 0 0 0 0 0]]\n",
            "Shape: (5, 20), Data type: int64\n",
            "\n",
            "Array with random values (1000x1000, first few elements):\n",
            "[[0.03237564 0.35566141 0.9619268 ]\n",
            " [0.37896167 0.92276219 0.75943766]\n",
            " [0.04149752 0.38544571 0.54552464]]\n",
            "Shape: (1000, 1000)\n"
          ]
        }
      ]
    },
    {
      "cell_type": "markdown",
      "source": [
        "### 2.2.5. Visualizing Memory Usage of NumPy Arrays\n",
        "\n",
        "Large NumPy arrays can consume significant memory. It's helpful to understand how to check the memory usage of your arrays. We can use `sys.getsizeof` (gives shallow size) and `.nbytes` attribute (gives actual data size).\n"
      ],
      "metadata": {
        "id": "Bm-ku64woG58"
      }
    },
    {
      "cell_type": "code",
      "source": [
        "import sys\n",
        "import numpy as np\n",
        "\n",
        "large_random_array = np.random.rand(10**9) # 1 billion random floats\n",
        "\n",
        "# Shallow size (size of the array object itself, not the data)\n",
        "shallow_size_bytes = sys.getsizeof(large_random_array)\n",
        "shallow_size_mb = shallow_size_bytes / (1024**2) # Convert to megabytes\n",
        "\n",
        "# Deep size (size of the actual data in the array)\n",
        "deep_size_bytes = large_random_array.nbytes\n",
        "deep_size_mb = deep_size_bytes / (1024**2) # Convert to megabytes\n",
        "\n",
        "print(f\"\\nMemory usage of large_random_array (shape: {large_random_array.shape}, dtype: {large_random_array.dtype}):\")\n",
        "print(f\"Shallow Size (sys.getsizeof): {shallow_size_mb:.2f} MB\")\n",
        "print(f\"Deep Size (array.nbytes): {deep_size_mb:.2f} MB\") # This is the more relevant size for data\n",
        "del large_random_array"
      ],
      "metadata": {
        "colab": {
          "base_uri": "https://localhost:8080/"
        },
        "id": "ENI6ebw_oIoT",
        "outputId": "7792812e-2ff3-496a-ddec-ee2faf6d40f9"
      },
      "execution_count": null,
      "outputs": [
        {
          "output_type": "stream",
          "name": "stdout",
          "text": [
            "\n",
            "Memory usage of large_random_array (shape: (1000000000,), dtype: float64):\n",
            "Shallow Size (sys.getsizeof): 7629.39 MB\n",
            "Deep Size (array.nbytes): 7629.39 MB\n"
          ]
        }
      ]
    },
    {
      "cell_type": "markdown",
      "source": [
        "**Explanation:**\n",
        "\n",
        "*   `sys.getsizeof()` gives the size of the Python object itself, which is usually small for NumPy arrays, as the actual data is stored in a contiguous memory block outside the main Python object.\n",
        "*   `.nbytes` attribute of a NumPy array gives the total number of bytes consumed by the array's data elements. This is the more accurate measure of the memory used to store the array's numerical values.\n",
        "\n",
        "When working with very large datasets, being mindful of memory usage is crucial. NumPy's efficient storage and operations help in managing memory effectively compared to standard Python lists."
      ],
      "metadata": {
        "id": "372CLKjWoQav"
      }
    },
    {
      "cell_type": "markdown",
      "source": [
        "### 2.3. `np.vectorize` and Performance\n",
        "\n",
        "`np.vectorize` is a function in NumPy that can be used to convert a Python function into a vectorized function.  However, it's important to understand that **`np.vectorize` does not actually make your Python function run faster in the way that true NumPy vectorization does.** It's essentially a convenience function that applies your Python function element-wise to NumPy arrays, often using a Python loop under the hood.\n",
        "\n",
        "**It's generally NOT recommended for performance-critical code when working with NumPy arrays. True NumPy vectorization (using built-in NumPy functions and operations) is much more efficient.**\n",
        "\n",
        "Let's illustrate this with an example and compare its performance to standard NumPy operations and Python's `map`."
      ],
      "metadata": {
        "id": "3Eg_otCBdzmJ"
      }
    },
    {
      "cell_type": "code",
      "source": [
        "def complex_function(x):\n",
        "    # A somewhat computationally intensive Python function (just for demonstration)\n",
        "    return (x**2 + np.sin(x)) / (1 + np.abs(x))\n",
        "\n",
        "# Create a large NumPy array\n",
        "large_array = np.random.rand(int(1e6))\n",
        "\n",
        "# 1. Using np.vectorize\n",
        "vectorized_func = np.vectorize(complex_function)\n",
        "\n",
        "# Time using np.vectorize\n",
        "%timeit vectorized_result = vectorized_func(large_array)\n",
        "\n",
        "# 2. Using Python's map (for comparison, not ideal for NumPy arrays directly)\n",
        "list_array = large_array.tolist() # Convert to list for map\n",
        "%timeit _ = list(map(complex_function, list_array))\n",
        "\n",
        "# 3. Using NumPy's vectorized operations (the efficient way) - if possible to rewrite the function\n",
        "def vectorized_complex_function(x):\n",
        "    return (x**2 + np.sin(x)) / (1 + np.abs(x)) # This function is already vectorized for NumPy\n",
        "\n",
        "# Time using vectorized NumPy operation\n",
        "%timeit _ = vectorized_complex_function(large_array)\n",
        "\n",
        "del large_array\n",
        "del list_array"
      ],
      "metadata": {
        "colab": {
          "base_uri": "https://localhost:8080/"
        },
        "id": "k2Q228CgdBD7",
        "outputId": "39f15593-e76d-4f39-b033-c0bde4b7774b"
      },
      "execution_count": null,
      "outputs": [
        {
          "output_type": "stream",
          "name": "stdout",
          "text": [
            "2.41 s ± 492 ms per loop (mean ± std. dev. of 7 runs, 1 loop each)\n",
            "2.71 s ± 562 ms per loop (mean ± std. dev. of 7 runs, 1 loop each)\n",
            "21.7 ms ± 1.47 ms per loop (mean ± std. dev. of 7 runs, 10 loops each)\n"
          ]
        }
      ]
    },
    {
      "cell_type": "markdown",
      "source": [
        "**Observations:**\n",
        "\n",
        "*   You'll likely see that `np.vectorize` is often slower than true NumPy vectorization (if a vectorized implementation is possible) and might even be comparable to or slightly slower than Python's `map` (especially if the function is not trivial).\n",
        "*   **True NumPy vectorization** (using NumPy's built-in functions and operations that are already vectorized) is the most efficient approach for numerical operations on NumPy arrays.\n",
        "\n",
        "**When to (rarely) consider `np.vectorize`:**\n",
        "\n",
        "*   When you have a pre-existing Python function that is difficult or time-consuming to rewrite using NumPy's vectorized operations, and you want to apply it element-wise to a NumPy array.\n",
        "*   For simpler tasks where performance is not the absolute top priority and convenience is preferred.\n",
        "\n",
        "**In most cases, you should aim to leverage NumPy's built-in vectorized operations for optimal performance.**"
      ],
      "metadata": {
        "id": "OVJRv8maeRcy"
      }
    },
    {
      "cell_type": "markdown",
      "source": [
        "### 2.4. Other Basic NumPy Operations (Briefly)\n",
        "\n",
        "NumPy offers a vast array of functions for array manipulation, linear algebra, Fourier transforms, random number generation, and much more. Here are a few very basic examples related to \"mapping\" or element-wise operations.\n"
      ],
      "metadata": {
        "id": "QkTpJKpAeST_"
      }
    },
    {
      "cell_type": "code",
      "source": [
        "# Element-wise addition, subtraction, multiplication, division\n",
        "array1 = np.array([1, 2, 3])\n",
        "array2 = np.array([4, 5, 6])\n",
        "\n",
        "print(\"\\nElement-wise operations:\")\n",
        "print(f\"array1 + array2: {array1 + array2}\")\n",
        "print(f\"array1 * array2: {array1 * array2}\")\n",
        "\n",
        "# Broadcasting example: scalar multiplication\n",
        "scalar = 2\n",
        "print(f\"\\nBroadcasting (scalar * array1): {scalar * array1}\")\n",
        "\n",
        "# Applying mathematical functions element-wise\n",
        "print(f\"\\nElement-wise sine (np.sin(array1)): {np.sin(array1)}\")"
      ],
      "metadata": {
        "colab": {
          "base_uri": "https://localhost:8080/"
        },
        "id": "fklr9tvOeu_a",
        "outputId": "da4ea9f9-769a-4b89-f8a3-3d9a3bd610eb"
      },
      "execution_count": null,
      "outputs": [
        {
          "output_type": "stream",
          "name": "stdout",
          "text": [
            "\n",
            "Element-wise operations:\n",
            "array1 + array2: [5 7 9]\n",
            "array1 * array2: [ 4 10 18]\n",
            "\n",
            "Broadcasting (scalar * array1): [2 4 6]\n",
            "\n",
            "Element-wise sine (np.sin(array1)): [0.84147098 0.90929743 0.14112001]\n"
          ]
        }
      ]
    },
    {
      "cell_type": "code",
      "source": [
        "# Exercise: create 2 random array of (10, 50), (50, 20), and do matrix multiplication\n",
        "arr1 = np.random.rand(10, 50)\n",
        "arr2 = np.random.rand(50, 20)\n",
        "\n",
        "res = arr1 @ arr2\n",
        "print(res.shape)\n",
        "print(res.nbytes)"
      ],
      "metadata": {
        "colab": {
          "base_uri": "https://localhost:8080/"
        },
        "id": "RzFLdCMgwe7s",
        "outputId": "2571c72b-f1ac-4419-a741-c34a53a27600"
      },
      "execution_count": null,
      "outputs": [
        {
          "output_type": "stream",
          "name": "stdout",
          "text": [
            "(10, 20)\n",
            "1600\n"
          ]
        }
      ]
    },
    {
      "cell_type": "markdown",
      "source": [
        "## 3. JAX: NumPy on Steroids with Auto-differentiation and Acceleration\n",
        "\n",
        "JAX is a powerful library developed by Google that builds upon NumPy and adds automatic differentiation, just-in-time (JIT) compilation, and excellent support for GPUs and TPUs. It's designed for high-performance numerical computing and machine learning."
      ],
      "metadata": {
        "id": "c1ZJr-h5er6P"
      }
    },
    {
      "cell_type": "markdown",
      "source": [
        "### 3.1. Concepts of JAX\n",
        "\n",
        "*   **NumPy API:** JAX largely follows the NumPy API, making it relatively easy to transition from NumPy to JAX. Most NumPy code can be run with JAX with minimal changes.\n",
        "*   **Automatic Differentiation (Autograd):** JAX can automatically compute gradients of Python functions, which is crucial for machine learning and optimization tasks.\n",
        "*   **Just-In-Time (JIT) Compilation:** JAX can compile Python functions into optimized machine code using `jax.jit`. This can dramatically speed up execution, especially for repeated computations.\n",
        "*   **Vectorization and Parallelization (`vmap`, `pmap`):** JAX provides `vmap` for automatic vectorization and `pmap` for parallelization across multiple devices (GPUs/TPUs or CPU cores).\n",
        "*   **GPU/TPU Acceleration:** JAX is designed to run efficiently on GPUs and TPUs, enabling significant speedups for computationally intensive tasks."
      ],
      "metadata": {
        "id": "kyIGcU2lfZtR"
      }
    },
    {
      "cell_type": "code",
      "source": [
        "def f(x):\n",
        "  return x**2\n",
        "\n",
        "x = jnp.array([i for i in range(5)], dtype=jnp.float32)\n",
        "grad_fn = jax.vmap(jax.grad(f))\n",
        "x_square = f(x)\n",
        "gradients = grad_fn(x)\n",
        "print(x)\n",
        "print(x_square)\n",
        "print(gradients)"
      ],
      "metadata": {
        "colab": {
          "base_uri": "https://localhost:8080/"
        },
        "id": "IOz9BiZg5M7I",
        "outputId": "45b0ceb9-e2d4-4033-8c6c-87003e395dad"
      },
      "execution_count": null,
      "outputs": [
        {
          "output_type": "stream",
          "name": "stdout",
          "text": [
            "[0. 1. 2. 3. 4.]\n",
            "[ 0.  1.  4.  9. 16.]\n",
            "[0. 2. 4. 6. 8.]\n"
          ]
        }
      ]
    },
    {
      "cell_type": "markdown",
      "source": [
        "### 3.2. JIT Compilation with `jax.jit`\n"
      ],
      "metadata": {
        "id": "HXtbUeakfemz"
      }
    },
    {
      "cell_type": "code",
      "source": [
        "import jax\n",
        "import jax.numpy as jnp # JAX's NumPy replacement\n",
        "\n",
        "# Define a function (similar to our complex_function from NumPy)\n",
        "def jax_complex_function(x):\n",
        "    return (x**2 + jnp.sin(x)) / (1 + jnp.abs(x))\n",
        "\n",
        "# Create a JAX array (similar to NumPy array)\n",
        "large_array = np.random.rand(int(1e7))\n",
        "jax_large_array = jnp.array(large_array) # Convert our NumPy array to JAX array\n",
        "\n",
        "# JIT compile the function\n",
        "jit_jax_complex_function = jax.jit(jax_complex_function)\n",
        "\n",
        "# **Run the JIT-compiled function once to trigger compilation**\n",
        "dummy_input = jnp.zeros((1,))\n",
        "_ = jit_jax_complex_function(dummy_input) # Discard the result, we just want to compile it\n",
        "\n",
        "# Now time the JIT-compiled function (it's already compiled)\n",
        "print(\"\\nTiming JIT-compiled function (after initial compilation):\")\n",
        "%timeit _ = jit_jax_complex_function(jax_large_array)\n",
        "\n",
        "# For comparison, time the function without JIT (optional, but good to see the difference)\n",
        "print(\"\\nTiming function without JIT:\")\n",
        "%timeit _ = jax_complex_function(jax_large_array)\n",
        "\n",
        "del large_array\n",
        "del jax_large_array\n",
        "del _"
      ],
      "metadata": {
        "colab": {
          "base_uri": "https://localhost:8080/"
        },
        "id": "6SF0z_yhhy1T",
        "outputId": "4585a386-ace1-4957-b345-e884d4194693"
      },
      "execution_count": null,
      "outputs": [
        {
          "output_type": "stream",
          "name": "stdout",
          "text": [
            "\n",
            "Timing JIT-compiled function (after initial compilation):\n",
            "104 ms ± 19.4 ms per loop (mean ± std. dev. of 7 runs, 100 loops each)\n",
            "\n",
            "Timing function without JIT:\n",
            "401 ms ± 62 ms per loop (mean ± std. dev. of 7 runs, 1 loop each)\n"
          ]
        }
      ]
    },
    {
      "cell_type": "markdown",
      "source": [
        "**Observations:**\n",
        "\n",
        "*   The first time you run a JIT-compiled function, there will be a slight overhead for compilation. Subsequent runs will be much faster as the compiled version is reused.\n",
        "*   By running `_ = jit_jax_complex_function(jax_large_array)` *before* the `%timeit`, we ensure that the timing measurement reflects the execution speed of the *compiled* code, not the compilation time.\n",
        "*   You should observe a significant speedup with the JIT-compiled version compared to the non-JIT version."
      ],
      "metadata": {
        "id": "DB3HtWIciBAg"
      }
    },
    {
      "cell_type": "markdown",
      "source": [
        "### 3.3. Vectorization with `jax.vmap`\n",
        "\n",
        "`jax.vmap` (vectorized map) is a powerful tool for automatically vectorizing functions. It takes a function that operates on single data points and transforms it into a function that operates on batches of data points (i.e., vectors or higher-dimensional arrays).\n",
        "\n",
        "Let's take our `jax_complex_function` and use `vmap` to process a batch of inputs efficiently."
      ],
      "metadata": {
        "id": "eNmq3YkCiCIp"
      }
    },
    {
      "cell_type": "code",
      "source": [
        "import jax\n",
        "import jax.numpy as jnp\n",
        "\n",
        "# Function that operates on a single input\n",
        "@jax.jit\n",
        "def single_process_function(x):\n",
        "    return x**2 + 1\n",
        "\n",
        "# Generate a large batch of random inputs (1000x1000 matrix now for demonstration)\n",
        "large_batch_inputs = jnp.array(np.random.rand(1000, 1000))\n",
        "\n",
        "# 1. Vectorize with vmap\n",
        "vectorized_process_function_vmap = jax.vmap(single_process_function, in_axes=(0,))\n",
        "jit_vectorized_process_function_vmap = jax.jit(vectorized_process_function_vmap) # JIT-compile vmap\n",
        "\n",
        "\n",
        "@jax.jit\n",
        "def loop_process_batch_fori(batch):\n",
        "    batch_size = batch.shape[0]\n",
        "\n",
        "    def body_fun(i, carry):\n",
        "        result = single_process_function(batch[i])\n",
        "        return carry.at[i].set(result)\n",
        "\n",
        "    # Initialize the output array\n",
        "    init_carry = jnp.zeros_like(batch)\n",
        "    # Use fori_loop to accumulate results\n",
        "    results = jax.lax.fori_loop(0, batch_size, body_fun, init_carry)\n",
        "    return results\n",
        "\n",
        "@jax.jit\n",
        "def loop_process_batch_map(batch):\n",
        "    return jax.lax.map(single_process_function, batch)\n",
        "\n",
        "# Python loop version for baseline comparison\n",
        "def loop_process_batch_python(batch):\n",
        "    results = []\n",
        "    batch_size = batch.shape[0]\n",
        "    for i in range(batch_size):\n",
        "        x = batch[i]\n",
        "        results.append(single_process_function(x))\n",
        "    return jnp.array(results)\n",
        "\n",
        "\n",
        "# **Run JIT-compiled functions once for compilation**\n",
        "dummy_input = jnp.zeros((1, 1))\n",
        "_ = single_process_function(dummy_input)\n",
        "_ = jit_vectorized_process_function_vmap(dummy_input)\n",
        "_ = loop_process_batch_fori(dummy_input)\n",
        "_ = loop_process_batch_map(dummy_input)\n",
        "_ = loop_process_batch_python(dummy_input)\n",
        "\n",
        "\n",
        "print(\"\\nTiming: Vectorized function with vmap (and JIT):\")\n",
        "%timeit _ = jit_vectorized_process_function_vmap(large_batch_inputs)\n",
        "\n",
        "print(\"\\nTiming: Loop-based batch processing with jax.lax.fori_loop (and JIT):\")\n",
        "%timeit _ = loop_process_batch_fori(large_batch_inputs)\n",
        "\n",
        "print(\"\\nTiming: Loop-based batch processing with Python loop (and JIT):\")\n",
        "%timeit _ = loop_process_batch_python(large_batch_inputs)\n",
        "\n",
        "\n",
        "print(\"\\nTiming: Map-based batch processing with jax.lax.map (and JIT):\")\n",
        "%timeit _ = loop_process_batch_map(large_batch_inputs)"
      ],
      "metadata": {
        "colab": {
          "base_uri": "https://localhost:8080/"
        },
        "id": "u88b5YN_iPlP",
        "outputId": "dfc93838-dc70-4b96-bfac-524003dd36fb"
      },
      "execution_count": null,
      "outputs": [
        {
          "output_type": "stream",
          "name": "stdout",
          "text": [
            "\n",
            "Timing: Vectorized function with vmap (and JIT):\n",
            "853 µs ± 142 µs per loop (mean ± std. dev. of 7 runs, 1000 loops each)\n",
            "\n",
            "Timing: Loop-based batch processing with jax.lax.fori_loop (and JIT):\n",
            "The slowest run took 19.66 times longer than the fastest. This could mean that an intermediate result is being cached.\n",
            "60.8 µs ± 100 µs per loop (mean ± std. dev. of 7 runs, 1 loop each)\n",
            "\n",
            "Timing: Loop-based batch processing with Python loop (and JIT):\n",
            "485 ms ± 55.2 ms per loop (mean ± std. dev. of 7 runs, 1 loop each)\n",
            "\n",
            "Timing: Loop-based batch processing with jax.lax.map (and JIT):\n",
            "1.77 ms ± 240 µs per loop (mean ± std. dev. of 7 runs, 100 loops each)\n"
          ]
        }
      ]
    },
    {
      "cell_type": "markdown",
      "source": [
        "**Explanation:**\n",
        "\n",
        "*   **`jax.vmap(single_process_function, in_axes=(0,))`**: We use `jax.vmap` to vectorize `single_process_function`.\n",
        "    *   `in_axes=(0,)` specifies that the vectorization should happen along the *first axis* (axis 0) of the input argument. Since `large_batch_inputs` is a 2D array (1000x1000), and we want to apply `single_process_function` to each row (or the first dimension), `in_axes=(0,)` is correct. If `large_batch_inputs` were 1D, `in_axes=(0)` would also work (or even just omitting `in_axes` as the default is `0`)."
      ],
      "metadata": {
        "id": "zqmQhUDSxfBV"
      }
    },
    {
      "cell_type": "markdown",
      "source": [
        "### 3.4. Parallelization with `jax.pmap`\n",
        "\n",
        "`jax.pmap` is for parallelizing computations across multiple devices (CPUs/GPUs/TPUs). Let's illustrate with a simpler example of processing sequential data in parallel.\n",
        "\n",
        "**Instruction:  Ensure you are using a multi-device runtime in Colab (Runtime -> Change runtime type -> Select a runtime with more CPUs).**"
      ],
      "metadata": {
        "id": "6-VVuPfpi4eY"
      }
    },
    {
      "cell_type": "code",
      "source": [
        "import jax\n",
        "jax.devices()\n",
        "# [TpuDevice(id=0, process_index=0, coords=(0,0,0), core_on_chip=0),\n",
        "#  TpuDevice(id=1, process_index=0, coords=(0,0,0), core_on_chip=1),\n",
        "#  TpuDevice(id=2, process_index=0, coords=(1,0,0), core_on_chip=0),\n",
        "#  TpuDevice(id=3, process_index=0, coords=(1,0,0), core_on_chip=1),\n",
        "#  TpuDevice(id=4, process_index=0, coords=(0,1,0), core_on_chip=0),\n",
        "#  TpuDevice(id=5, process_index=0, coords=(0,1,0), core_on_chip=1),\n",
        "#  TpuDevice(id=6, process_index=0, coords=(1,1,0), core_on_chip=0),\n",
        "#  TpuDevice(id=7, process_index=0, coords=(1,1,0), core_on_chip=1)]"
      ],
      "metadata": {
        "colab": {
          "base_uri": "https://localhost:8080/"
        },
        "id": "jbt406Os45fO",
        "outputId": "6e30bcd8-6040-4a9d-9a47-30549dcec888"
      },
      "execution_count": null,
      "outputs": [
        {
          "output_type": "execute_result",
          "data": {
            "text/plain": [
              "[TpuDevice(id=0, process_index=0, coords=(0,0,0), core_on_chip=0),\n",
              " TpuDevice(id=1, process_index=0, coords=(0,0,0), core_on_chip=1),\n",
              " TpuDevice(id=2, process_index=0, coords=(1,0,0), core_on_chip=0),\n",
              " TpuDevice(id=3, process_index=0, coords=(1,0,0), core_on_chip=1),\n",
              " TpuDevice(id=4, process_index=0, coords=(0,1,0), core_on_chip=0),\n",
              " TpuDevice(id=5, process_index=0, coords=(0,1,0), core_on_chip=1),\n",
              " TpuDevice(id=6, process_index=0, coords=(1,1,0), core_on_chip=0),\n",
              " TpuDevice(id=7, process_index=0, coords=(1,1,0), core_on_chip=1)]"
            ]
          },
          "metadata": {},
          "execution_count": 1
        }
      ]
    },
    {
      "cell_type": "code",
      "source": [
        "import numpy as np\n",
        "import jax.numpy as jnp\n",
        "\n",
        "# Simplified function: Calculate sum of squares for a time series\n",
        "@jax.jit\n",
        "def sum_of_squares(time_series): # time_series is 2D: [time_steps, features]\n",
        "    return jnp.sum(time_series**2)\n",
        "\n",
        "def sum_of_squares_np(time_series): # time_series is 2D: [time_steps, features]\n",
        "    return np.sum(time_series**2)\n",
        "\n",
        "# Generate sequential data for multiple vehicles (smaller example for clarity)\n",
        "num_vehicles = 8\n",
        "time_steps = int(1e8)  # change to smaller ones for your RAM\n",
        "num_features = 2\n",
        "num_devices = jax.device_count()\n",
        "\n",
        "# Generate data\n",
        "data = np.random.rand(num_vehicles, time_steps, num_features).astype(np.float32)\n",
        "data = data.reshape((num_devices, num_vehicles // num_devices, time_steps, num_features))\n",
        "sharded_data = jax.device_put_sharded(list(data), jax.devices())\n",
        "\n",
        "# Parallelize processing of each vehicle's time series using pmap\n",
        "parallel_sum_of_squares = jax.pmap(sum_of_squares, axis_name='devices')\n",
        "dum_p = jnp.zeros((1,1,1,1), dtype=jnp.float32)\n",
        "_ = parallel_sum_of_squares(dum_p)\n",
        "\n",
        "print(\"\\n Parallelization with pmap on multi-device runtime:\")\n",
        "print(f\"Shape of Input Data (Sequential Data): {sharded_data.shape}\")\n",
        "\n",
        "# Time parallel processing\n",
        "%timeit parallel_results_pmap = parallel_sum_of_squares(sharded_data)\n",
        "\n",
        "del sharded_data\n",
        "\n",
        "data = data.reshape(-1, time_steps, num_features)\n",
        "# Sequential processing for comparison\n",
        "def sequential_sum_of_squares_all_vehicles(all_vehicle_data):\n",
        "    results = []\n",
        "    for vehicle_data in all_vehicle_data:\n",
        "        results.append(sum_of_squares_np(vehicle_data))\n",
        "    return jnp.array(results)\n",
        "\n",
        "print(\"\\nSequential processing (for comparison):\")\n",
        "%timeit sequential_results_loop = sequential_sum_of_squares_all_vehicles(data)\n"
      ],
      "metadata": {
        "colab": {
          "base_uri": "https://localhost:8080/"
        },
        "id": "D2BtNw05jRGq",
        "outputId": "47cd217e-fdb1-474d-d86e-4f1fca2053dd"
      },
      "execution_count": null,
      "outputs": [
        {
          "output_type": "stream",
          "name": "stdout",
          "text": [
            "\n",
            " Parallelization with pmap on multi-device runtime:\n",
            "Shape of Input Data (Sequential Data): (8, 1, 100000000, 2)\n",
            "2.44 ms ± 432 ns per loop (mean ± std. dev. of 7 runs, 1000 loops each)\n",
            "\n",
            "Sequential processing (for comparison):\n",
            "2.41 s ± 12.1 ms per loop (mean ± std. dev. of 7 runs, 1 loop each)\n"
          ]
        }
      ]
    },
    {
      "cell_type": "markdown",
      "source": [
        "**Explanation:**\n",
        "\n",
        "*   `sum_of_squares` is a simple function that calculates the sum of squares of all elements in a time series (2D array).\n",
        "*   **`jax.pmap(sum_of_squares, axis_name='devices')`**: We parallelize `sum_of_squares` across the vehicle dimension (axis 0). Each vehicle's time series is intended to be processed on a separate device (CPU core in a multi-CPU runtime).\n",
        "*   **Performance Comparison:** We compare the timing of `pmap` with a sequential loop to highlight the potential speedup from parallelization.\n",
        "\n",
        "**Key takeaway:** `pmap` allows you to distribute computations across devices, potentially speeding up processing when you have independent units of work (like processing each vehicle's data separately). The actual speedup you observe in Colab will depend on the runtime environment and the nature of the computation. For true large-scale parallelism, consider dedicated GPU/TPU environments."
      ],
      "metadata": {
        "id": "mAsBKEtgjmYf"
      }
    },
    {
      "cell_type": "markdown",
      "source": [
        "## 4. Magic Commands for Data Interaction (NYC Taxi Data Example)\n",
        "\n",
        "Let's try accessing the NYC Taxi dataset. The free tier includes:\n",
        "1 TB of query processing per month\n",
        "10 GB of storage"
      ],
      "metadata": {
        "id": "PThwGugkj-at"
      }
    },
    {
      "cell_type": "code",
      "source": [
        "project_id = \"bda-6893\"  # Replace with your actual project ID"
      ],
      "metadata": {
        "id": "w-yqHCSQCcmg"
      },
      "execution_count": null,
      "outputs": []
    },
    {
      "cell_type": "code",
      "source": [
        "%%bigquery --project $project_id\n",
        "SELECT\n",
        "    vendor_id,\n",
        "    pickup_datetime,\n",
        "    dropoff_datetime,\n",
        "    passenger_count,\n",
        "    trip_distance,\n",
        "    fare_amount,\n",
        "    tip_amount,\n",
        "    total_amount,\n",
        "    pickup_location_id,\n",
        "    dropoff_location_id\n",
        "FROM\n",
        "    `bigquery-public-data.new_york_taxi_trips.tlc_yellow_trips_2020` # Example table (January 2020)\n",
        "WHERE\n",
        "    EXTRACT(MONTH FROM pickup_datetime) = 1  # To get January data\n",
        "    AND passenger_count > 0  -- Filter out invalid records\n",
        "    AND fare_amount > 0      -- Filter out invalid records\n",
        "LIMIT 10"
      ],
      "metadata": {
        "colab": {
          "base_uri": "https://localhost:8080/",
          "height": 621,
          "referenced_widgets": [
            "92a7743ac11041b5952b557924b4eda6",
            "25a6d2da586d4f5685775a0c13198010",
            "828257c75a6e4149b5d706653b9edb1d",
            "1d34b36b2a0e40fdb9542bf694c8e0e6",
            "760cd2796117468b8a6dc810f08c9eae",
            "b99a53fa089f4d2db15fa1910bddcd99",
            "85a5fa31f69f403da9fc7197ca413d65",
            "8b92d94338c54d1f85d81c507b9007f4",
            "58c703e8a3c8424ab3f13763e859c75f",
            "c2f1a14c82ca4857ae94cee403b4d5a6",
            "3e06e756a3304e7781461b03848fb8dd",
            "277d33e7f7d945a99daa7eb97ed6a82b",
            "b5808e92bae74323b6b045f9f1cf4559",
            "6815112e2a0a4cc8aba4563fd0ed2600",
            "c57ff636785b4b80a43efea5287651c0",
            "5553eeafa5254ef9b46334bb81d0fe57",
            "ca182bdb4be841bf8e55e35ec718e42b",
            "072b1e8de3374773a54910970383b280",
            "85930066b40947f3a0258f3d9301d2c1",
            "9aeb2239024a46bfa5e5c11322b066fd",
            "abb5909be2584b01b2304fc93bdfe5f5",
            "dc99e13a71344167b0d8c2d1199f5aac"
          ]
        },
        "id": "l8noU-w4j_gk",
        "outputId": "e0c9ec70-34c3-4b56-bd54-d905cc7cda61"
      },
      "execution_count": null,
      "outputs": [
        {
          "output_type": "display_data",
          "data": {
            "text/plain": [
              "Query is running:   0%|          |"
            ],
            "application/vnd.jupyter.widget-view+json": {
              "version_major": 2,
              "version_minor": 0,
              "model_id": "92a7743ac11041b5952b557924b4eda6"
            }
          },
          "metadata": {}
        },
        {
          "output_type": "display_data",
          "data": {
            "text/plain": [
              "Downloading:   0%|          |"
            ],
            "application/vnd.jupyter.widget-view+json": {
              "version_major": 2,
              "version_minor": 0,
              "model_id": "277d33e7f7d945a99daa7eb97ed6a82b"
            }
          },
          "metadata": {}
        },
        {
          "output_type": "execute_result",
          "data": {
            "text/plain": [
              "  vendor_id           pickup_datetime          dropoff_datetime  \\\n",
              "0         2 2020-01-14 17:17:58+00:00 2020-01-14 17:18:10+00:00   \n",
              "1         2 2020-01-06 10:41:48+00:00 2020-01-06 10:41:53+00:00   \n",
              "2         1 2020-01-15 18:11:20+00:00 2020-01-15 18:12:45+00:00   \n",
              "3         2 2020-01-05 17:12:20+00:00 2020-01-05 17:12:36+00:00   \n",
              "4         1 2020-01-01 03:08:02+00:00 2020-01-01 03:08:51+00:00   \n",
              "5         1 2020-01-24 08:54:10+00:00 2020-01-24 09:01:01+00:00   \n",
              "6         1 2020-01-16 17:50:11+00:00 2020-01-16 17:55:29+00:00   \n",
              "7         1 2020-01-28 17:09:33+00:00 2020-01-28 17:10:26+00:00   \n",
              "8         1 2020-01-17 16:17:58+00:00 2020-01-17 17:06:33+00:00   \n",
              "9         1 2020-01-28 23:17:10+00:00 2020-01-28 23:58:41+00:00   \n",
              "\n",
              "   passenger_count trip_distance  fare_amount tip_amount total_amount  \\\n",
              "0                4   0.060000000  1.300000000       0E-9  1.600000000   \n",
              "1                4   0.010000000  0.300000000       0E-9  0.600000000   \n",
              "2                1          0E-9  1.000000000       0E-9  1.300000000   \n",
              "3                1          0E-9  1.000000000       0E-9  1.300000000   \n",
              "4                2   0.600000000  0.460000000       0E-9  0.760000000   \n",
              "5                1   1.300000000  0.410000000       0E-9  0.410000000   \n",
              "6                1   1.000000000  0.410000000       0E-9  0.410000000   \n",
              "7                3          0E-9  0.690000000       0E-9  0.990000000   \n",
              "8                1   7.600000000  0.010000000       0E-9  0.310000000   \n",
              "9                1  17.900000000  0.010000000       0E-9  0.310000000   \n",
              "\n",
              "  pickup_location_id dropoff_location_id  \n",
              "0                 28                  28  \n",
              "1                138                 138  \n",
              "2                146                 146  \n",
              "3                226                 226  \n",
              "4                234                 234  \n",
              "5                239                 141  \n",
              "6                 43                  43  \n",
              "7                132                 132  \n",
              "8                138                 161  \n",
              "9                209                  20  "
            ],
            "text/html": [
              "\n",
              "  <div id=\"df-2fc91342-eaf3-4d30-87e7-548788efc53f\" class=\"colab-df-container\">\n",
              "    <div>\n",
              "<style scoped>\n",
              "    .dataframe tbody tr th:only-of-type {\n",
              "        vertical-align: middle;\n",
              "    }\n",
              "\n",
              "    .dataframe tbody tr th {\n",
              "        vertical-align: top;\n",
              "    }\n",
              "\n",
              "    .dataframe thead th {\n",
              "        text-align: right;\n",
              "    }\n",
              "</style>\n",
              "<table border=\"1\" class=\"dataframe\">\n",
              "  <thead>\n",
              "    <tr style=\"text-align: right;\">\n",
              "      <th></th>\n",
              "      <th>vendor_id</th>\n",
              "      <th>pickup_datetime</th>\n",
              "      <th>dropoff_datetime</th>\n",
              "      <th>passenger_count</th>\n",
              "      <th>trip_distance</th>\n",
              "      <th>fare_amount</th>\n",
              "      <th>tip_amount</th>\n",
              "      <th>total_amount</th>\n",
              "      <th>pickup_location_id</th>\n",
              "      <th>dropoff_location_id</th>\n",
              "    </tr>\n",
              "  </thead>\n",
              "  <tbody>\n",
              "    <tr>\n",
              "      <th>0</th>\n",
              "      <td>2</td>\n",
              "      <td>2020-01-14 17:17:58+00:00</td>\n",
              "      <td>2020-01-14 17:18:10+00:00</td>\n",
              "      <td>4</td>\n",
              "      <td>0.060000000</td>\n",
              "      <td>1.300000000</td>\n",
              "      <td>0E-9</td>\n",
              "      <td>1.600000000</td>\n",
              "      <td>28</td>\n",
              "      <td>28</td>\n",
              "    </tr>\n",
              "    <tr>\n",
              "      <th>1</th>\n",
              "      <td>2</td>\n",
              "      <td>2020-01-06 10:41:48+00:00</td>\n",
              "      <td>2020-01-06 10:41:53+00:00</td>\n",
              "      <td>4</td>\n",
              "      <td>0.010000000</td>\n",
              "      <td>0.300000000</td>\n",
              "      <td>0E-9</td>\n",
              "      <td>0.600000000</td>\n",
              "      <td>138</td>\n",
              "      <td>138</td>\n",
              "    </tr>\n",
              "    <tr>\n",
              "      <th>2</th>\n",
              "      <td>1</td>\n",
              "      <td>2020-01-15 18:11:20+00:00</td>\n",
              "      <td>2020-01-15 18:12:45+00:00</td>\n",
              "      <td>1</td>\n",
              "      <td>0E-9</td>\n",
              "      <td>1.000000000</td>\n",
              "      <td>0E-9</td>\n",
              "      <td>1.300000000</td>\n",
              "      <td>146</td>\n",
              "      <td>146</td>\n",
              "    </tr>\n",
              "    <tr>\n",
              "      <th>3</th>\n",
              "      <td>2</td>\n",
              "      <td>2020-01-05 17:12:20+00:00</td>\n",
              "      <td>2020-01-05 17:12:36+00:00</td>\n",
              "      <td>1</td>\n",
              "      <td>0E-9</td>\n",
              "      <td>1.000000000</td>\n",
              "      <td>0E-9</td>\n",
              "      <td>1.300000000</td>\n",
              "      <td>226</td>\n",
              "      <td>226</td>\n",
              "    </tr>\n",
              "    <tr>\n",
              "      <th>4</th>\n",
              "      <td>1</td>\n",
              "      <td>2020-01-01 03:08:02+00:00</td>\n",
              "      <td>2020-01-01 03:08:51+00:00</td>\n",
              "      <td>2</td>\n",
              "      <td>0.600000000</td>\n",
              "      <td>0.460000000</td>\n",
              "      <td>0E-9</td>\n",
              "      <td>0.760000000</td>\n",
              "      <td>234</td>\n",
              "      <td>234</td>\n",
              "    </tr>\n",
              "    <tr>\n",
              "      <th>5</th>\n",
              "      <td>1</td>\n",
              "      <td>2020-01-24 08:54:10+00:00</td>\n",
              "      <td>2020-01-24 09:01:01+00:00</td>\n",
              "      <td>1</td>\n",
              "      <td>1.300000000</td>\n",
              "      <td>0.410000000</td>\n",
              "      <td>0E-9</td>\n",
              "      <td>0.410000000</td>\n",
              "      <td>239</td>\n",
              "      <td>141</td>\n",
              "    </tr>\n",
              "    <tr>\n",
              "      <th>6</th>\n",
              "      <td>1</td>\n",
              "      <td>2020-01-16 17:50:11+00:00</td>\n",
              "      <td>2020-01-16 17:55:29+00:00</td>\n",
              "      <td>1</td>\n",
              "      <td>1.000000000</td>\n",
              "      <td>0.410000000</td>\n",
              "      <td>0E-9</td>\n",
              "      <td>0.410000000</td>\n",
              "      <td>43</td>\n",
              "      <td>43</td>\n",
              "    </tr>\n",
              "    <tr>\n",
              "      <th>7</th>\n",
              "      <td>1</td>\n",
              "      <td>2020-01-28 17:09:33+00:00</td>\n",
              "      <td>2020-01-28 17:10:26+00:00</td>\n",
              "      <td>3</td>\n",
              "      <td>0E-9</td>\n",
              "      <td>0.690000000</td>\n",
              "      <td>0E-9</td>\n",
              "      <td>0.990000000</td>\n",
              "      <td>132</td>\n",
              "      <td>132</td>\n",
              "    </tr>\n",
              "    <tr>\n",
              "      <th>8</th>\n",
              "      <td>1</td>\n",
              "      <td>2020-01-17 16:17:58+00:00</td>\n",
              "      <td>2020-01-17 17:06:33+00:00</td>\n",
              "      <td>1</td>\n",
              "      <td>7.600000000</td>\n",
              "      <td>0.010000000</td>\n",
              "      <td>0E-9</td>\n",
              "      <td>0.310000000</td>\n",
              "      <td>138</td>\n",
              "      <td>161</td>\n",
              "    </tr>\n",
              "    <tr>\n",
              "      <th>9</th>\n",
              "      <td>1</td>\n",
              "      <td>2020-01-28 23:17:10+00:00</td>\n",
              "      <td>2020-01-28 23:58:41+00:00</td>\n",
              "      <td>1</td>\n",
              "      <td>17.900000000</td>\n",
              "      <td>0.010000000</td>\n",
              "      <td>0E-9</td>\n",
              "      <td>0.310000000</td>\n",
              "      <td>209</td>\n",
              "      <td>20</td>\n",
              "    </tr>\n",
              "  </tbody>\n",
              "</table>\n",
              "</div>\n",
              "    <div class=\"colab-df-buttons\">\n",
              "\n",
              "  <div class=\"colab-df-container\">\n",
              "    <button class=\"colab-df-convert\" onclick=\"convertToInteractive('df-2fc91342-eaf3-4d30-87e7-548788efc53f')\"\n",
              "            title=\"Convert this dataframe to an interactive table.\"\n",
              "            style=\"display:none;\">\n",
              "\n",
              "  <svg xmlns=\"http://www.w3.org/2000/svg\" height=\"24px\" viewBox=\"0 -960 960 960\">\n",
              "    <path d=\"M120-120v-720h720v720H120Zm60-500h600v-160H180v160Zm220 220h160v-160H400v160Zm0 220h160v-160H400v160ZM180-400h160v-160H180v160Zm440 0h160v-160H620v160ZM180-180h160v-160H180v160Zm440 0h160v-160H620v160Z\"/>\n",
              "  </svg>\n",
              "    </button>\n",
              "\n",
              "  <style>\n",
              "    .colab-df-container {\n",
              "      display:flex;\n",
              "      gap: 12px;\n",
              "    }\n",
              "\n",
              "    .colab-df-convert {\n",
              "      background-color: #E8F0FE;\n",
              "      border: none;\n",
              "      border-radius: 50%;\n",
              "      cursor: pointer;\n",
              "      display: none;\n",
              "      fill: #1967D2;\n",
              "      height: 32px;\n",
              "      padding: 0 0 0 0;\n",
              "      width: 32px;\n",
              "    }\n",
              "\n",
              "    .colab-df-convert:hover {\n",
              "      background-color: #E2EBFA;\n",
              "      box-shadow: 0px 1px 2px rgba(60, 64, 67, 0.3), 0px 1px 3px 1px rgba(60, 64, 67, 0.15);\n",
              "      fill: #174EA6;\n",
              "    }\n",
              "\n",
              "    .colab-df-buttons div {\n",
              "      margin-bottom: 4px;\n",
              "    }\n",
              "\n",
              "    [theme=dark] .colab-df-convert {\n",
              "      background-color: #3B4455;\n",
              "      fill: #D2E3FC;\n",
              "    }\n",
              "\n",
              "    [theme=dark] .colab-df-convert:hover {\n",
              "      background-color: #434B5C;\n",
              "      box-shadow: 0px 1px 3px 1px rgba(0, 0, 0, 0.15);\n",
              "      filter: drop-shadow(0px 1px 2px rgba(0, 0, 0, 0.3));\n",
              "      fill: #FFFFFF;\n",
              "    }\n",
              "  </style>\n",
              "\n",
              "    <script>\n",
              "      const buttonEl =\n",
              "        document.querySelector('#df-2fc91342-eaf3-4d30-87e7-548788efc53f button.colab-df-convert');\n",
              "      buttonEl.style.display =\n",
              "        google.colab.kernel.accessAllowed ? 'block' : 'none';\n",
              "\n",
              "      async function convertToInteractive(key) {\n",
              "        const element = document.querySelector('#df-2fc91342-eaf3-4d30-87e7-548788efc53f');\n",
              "        const dataTable =\n",
              "          await google.colab.kernel.invokeFunction('convertToInteractive',\n",
              "                                                    [key], {});\n",
              "        if (!dataTable) return;\n",
              "\n",
              "        const docLinkHtml = 'Like what you see? Visit the ' +\n",
              "          '<a target=\"_blank\" href=https://colab.research.google.com/notebooks/data_table.ipynb>data table notebook</a>'\n",
              "          + ' to learn more about interactive tables.';\n",
              "        element.innerHTML = '';\n",
              "        dataTable['output_type'] = 'display_data';\n",
              "        await google.colab.output.renderOutput(dataTable, element);\n",
              "        const docLink = document.createElement('div');\n",
              "        docLink.innerHTML = docLinkHtml;\n",
              "        element.appendChild(docLink);\n",
              "      }\n",
              "    </script>\n",
              "  </div>\n",
              "\n",
              "\n",
              "<div id=\"df-d76e8789-cdce-47e9-bfbf-19022678d1eb\">\n",
              "  <button class=\"colab-df-quickchart\" onclick=\"quickchart('df-d76e8789-cdce-47e9-bfbf-19022678d1eb')\"\n",
              "            title=\"Suggest charts\"\n",
              "            style=\"display:none;\">\n",
              "\n",
              "<svg xmlns=\"http://www.w3.org/2000/svg\" height=\"24px\"viewBox=\"0 0 24 24\"\n",
              "     width=\"24px\">\n",
              "    <g>\n",
              "        <path d=\"M19 3H5c-1.1 0-2 .9-2 2v14c0 1.1.9 2 2 2h14c1.1 0 2-.9 2-2V5c0-1.1-.9-2-2-2zM9 17H7v-7h2v7zm4 0h-2V7h2v10zm4 0h-2v-4h2v4z\"/>\n",
              "    </g>\n",
              "</svg>\n",
              "  </button>\n",
              "\n",
              "<style>\n",
              "  .colab-df-quickchart {\n",
              "      --bg-color: #E8F0FE;\n",
              "      --fill-color: #1967D2;\n",
              "      --hover-bg-color: #E2EBFA;\n",
              "      --hover-fill-color: #174EA6;\n",
              "      --disabled-fill-color: #AAA;\n",
              "      --disabled-bg-color: #DDD;\n",
              "  }\n",
              "\n",
              "  [theme=dark] .colab-df-quickchart {\n",
              "      --bg-color: #3B4455;\n",
              "      --fill-color: #D2E3FC;\n",
              "      --hover-bg-color: #434B5C;\n",
              "      --hover-fill-color: #FFFFFF;\n",
              "      --disabled-bg-color: #3B4455;\n",
              "      --disabled-fill-color: #666;\n",
              "  }\n",
              "\n",
              "  .colab-df-quickchart {\n",
              "    background-color: var(--bg-color);\n",
              "    border: none;\n",
              "    border-radius: 50%;\n",
              "    cursor: pointer;\n",
              "    display: none;\n",
              "    fill: var(--fill-color);\n",
              "    height: 32px;\n",
              "    padding: 0;\n",
              "    width: 32px;\n",
              "  }\n",
              "\n",
              "  .colab-df-quickchart:hover {\n",
              "    background-color: var(--hover-bg-color);\n",
              "    box-shadow: 0 1px 2px rgba(60, 64, 67, 0.3), 0 1px 3px 1px rgba(60, 64, 67, 0.15);\n",
              "    fill: var(--button-hover-fill-color);\n",
              "  }\n",
              "\n",
              "  .colab-df-quickchart-complete:disabled,\n",
              "  .colab-df-quickchart-complete:disabled:hover {\n",
              "    background-color: var(--disabled-bg-color);\n",
              "    fill: var(--disabled-fill-color);\n",
              "    box-shadow: none;\n",
              "  }\n",
              "\n",
              "  .colab-df-spinner {\n",
              "    border: 2px solid var(--fill-color);\n",
              "    border-color: transparent;\n",
              "    border-bottom-color: var(--fill-color);\n",
              "    animation:\n",
              "      spin 1s steps(1) infinite;\n",
              "  }\n",
              "\n",
              "  @keyframes spin {\n",
              "    0% {\n",
              "      border-color: transparent;\n",
              "      border-bottom-color: var(--fill-color);\n",
              "      border-left-color: var(--fill-color);\n",
              "    }\n",
              "    20% {\n",
              "      border-color: transparent;\n",
              "      border-left-color: var(--fill-color);\n",
              "      border-top-color: var(--fill-color);\n",
              "    }\n",
              "    30% {\n",
              "      border-color: transparent;\n",
              "      border-left-color: var(--fill-color);\n",
              "      border-top-color: var(--fill-color);\n",
              "      border-right-color: var(--fill-color);\n",
              "    }\n",
              "    40% {\n",
              "      border-color: transparent;\n",
              "      border-right-color: var(--fill-color);\n",
              "      border-top-color: var(--fill-color);\n",
              "    }\n",
              "    60% {\n",
              "      border-color: transparent;\n",
              "      border-right-color: var(--fill-color);\n",
              "    }\n",
              "    80% {\n",
              "      border-color: transparent;\n",
              "      border-right-color: var(--fill-color);\n",
              "      border-bottom-color: var(--fill-color);\n",
              "    }\n",
              "    90% {\n",
              "      border-color: transparent;\n",
              "      border-bottom-color: var(--fill-color);\n",
              "    }\n",
              "  }\n",
              "</style>\n",
              "\n",
              "  <script>\n",
              "    async function quickchart(key) {\n",
              "      const quickchartButtonEl =\n",
              "        document.querySelector('#' + key + ' button');\n",
              "      quickchartButtonEl.disabled = true;  // To prevent multiple clicks.\n",
              "      quickchartButtonEl.classList.add('colab-df-spinner');\n",
              "      try {\n",
              "        const charts = await google.colab.kernel.invokeFunction(\n",
              "            'suggestCharts', [key], {});\n",
              "      } catch (error) {\n",
              "        console.error('Error during call to suggestCharts:', error);\n",
              "      }\n",
              "      quickchartButtonEl.classList.remove('colab-df-spinner');\n",
              "      quickchartButtonEl.classList.add('colab-df-quickchart-complete');\n",
              "    }\n",
              "    (() => {\n",
              "      let quickchartButtonEl =\n",
              "        document.querySelector('#df-d76e8789-cdce-47e9-bfbf-19022678d1eb button');\n",
              "      quickchartButtonEl.style.display =\n",
              "        google.colab.kernel.accessAllowed ? 'block' : 'none';\n",
              "    })();\n",
              "  </script>\n",
              "</div>\n",
              "\n",
              "    </div>\n",
              "  </div>\n"
            ],
            "application/vnd.google.colaboratory.intrinsic+json": {
              "type": "dataframe",
              "summary": "{\n  \"name\": \"get_ipython()\",\n  \"rows\": 10,\n  \"fields\": [\n    {\n      \"column\": \"vendor_id\",\n      \"properties\": {\n        \"dtype\": \"category\",\n        \"num_unique_values\": 2,\n        \"samples\": [\n          \"1\",\n          \"2\"\n        ],\n        \"semantic_type\": \"\",\n        \"description\": \"\"\n      }\n    },\n    {\n      \"column\": \"pickup_datetime\",\n      \"properties\": {\n        \"dtype\": \"date\",\n        \"min\": \"2020-01-01 03:08:02+00:00\",\n        \"max\": \"2020-01-28 23:17:10+00:00\",\n        \"num_unique_values\": 10,\n        \"samples\": [\n          \"2020-01-17 16:17:58+00:00\",\n          \"2020-01-06 10:41:48+00:00\"\n        ],\n        \"semantic_type\": \"\",\n        \"description\": \"\"\n      }\n    },\n    {\n      \"column\": \"dropoff_datetime\",\n      \"properties\": {\n        \"dtype\": \"date\",\n        \"min\": \"2020-01-01 03:08:51+00:00\",\n        \"max\": \"2020-01-28 23:58:41+00:00\",\n        \"num_unique_values\": 10,\n        \"samples\": [\n          \"2020-01-17 17:06:33+00:00\",\n          \"2020-01-06 10:41:53+00:00\"\n        ],\n        \"semantic_type\": \"\",\n        \"description\": \"\"\n      }\n    },\n    {\n      \"column\": \"passenger_count\",\n      \"properties\": {\n        \"dtype\": \"Int64\",\n        \"num_unique_values\": 4,\n        \"samples\": [\n          1,\n          3\n        ],\n        \"semantic_type\": \"\",\n        \"description\": \"\"\n      }\n    },\n    {\n      \"column\": \"trip_distance\",\n      \"properties\": {\n        \"dtype\": \"string\",\n        \"num_unique_values\": 8,\n        \"samples\": [\n          \"0.010000000\",\n          \"1.000000000\"\n        ],\n        \"semantic_type\": \"\",\n        \"description\": \"\"\n      }\n    },\n    {\n      \"column\": \"fare_amount\",\n      \"properties\": {\n        \"dtype\": \"string\",\n        \"num_unique_values\": 7,\n        \"samples\": [\n          \"1.300000000\",\n          \"0.300000000\"\n        ],\n        \"semantic_type\": \"\",\n        \"description\": \"\"\n      }\n    },\n    {\n      \"column\": \"tip_amount\",\n      \"properties\": {\n        \"dtype\": \"category\",\n        \"num_unique_values\": 1,\n        \"samples\": [\n          \"0E-9\"\n        ],\n        \"semantic_type\": \"\",\n        \"description\": \"\"\n      }\n    },\n    {\n      \"column\": \"total_amount\",\n      \"properties\": {\n        \"dtype\": \"string\",\n        \"num_unique_values\": 7,\n        \"samples\": [\n          \"1.600000000\"\n        ],\n        \"semantic_type\": \"\",\n        \"description\": \"\"\n      }\n    },\n    {\n      \"column\": \"pickup_location_id\",\n      \"properties\": {\n        \"dtype\": \"string\",\n        \"num_unique_values\": 9,\n        \"samples\": [\n          \"132\"\n        ],\n        \"semantic_type\": \"\",\n        \"description\": \"\"\n      }\n    },\n    {\n      \"column\": \"dropoff_location_id\",\n      \"properties\": {\n        \"dtype\": \"string\",\n        \"num_unique_values\": 10,\n        \"samples\": [\n          \"161\"\n        ],\n        \"semantic_type\": \"\",\n        \"description\": \"\"\n      }\n    }\n  ]\n}"
            }
          },
          "metadata": {},
          "execution_count": 14
        }
      ]
    }
  ]
}